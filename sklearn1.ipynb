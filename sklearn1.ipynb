{
 "cells": [
  {
   "cell_type": "code",
   "execution_count": 4,
   "metadata": {},
   "outputs": [],
   "source": [
    "import sklearn"
   ]
  },
  {
   "cell_type": "code",
   "execution_count": 5,
   "metadata": {},
   "outputs": [],
   "source": [
    "from sklearn import datasets"
   ]
  },
  {
   "cell_type": "code",
   "execution_count": 6,
   "metadata": {},
   "outputs": [],
   "source": [
    "iris = datasets.load_iris()"
   ]
  },
  {
   "cell_type": "code",
   "execution_count": 7,
   "metadata": {
    "scrolled": true
   },
   "outputs": [
    {
     "data": {
      "text/plain": [
       "array([[5.1, 3.5, 1.4, 0.2],\n",
       "       [4.9, 3. , 1.4, 0.2],\n",
       "       [4.7, 3.2, 1.3, 0.2],\n",
       "       [4.6, 3.1, 1.5, 0.2],\n",
       "       [5. , 3.6, 1.4, 0.2],\n",
       "       [5.4, 3.9, 1.7, 0.4],\n",
       "       [4.6, 3.4, 1.4, 0.3],\n",
       "       [5. , 3.4, 1.5, 0.2],\n",
       "       [4.4, 2.9, 1.4, 0.2],\n",
       "       [4.9, 3.1, 1.5, 0.1],\n",
       "       [5.4, 3.7, 1.5, 0.2],\n",
       "       [4.8, 3.4, 1.6, 0.2],\n",
       "       [4.8, 3. , 1.4, 0.1],\n",
       "       [4.3, 3. , 1.1, 0.1],\n",
       "       [5.8, 4. , 1.2, 0.2],\n",
       "       [5.7, 4.4, 1.5, 0.4],\n",
       "       [5.4, 3.9, 1.3, 0.4],\n",
       "       [5.1, 3.5, 1.4, 0.3],\n",
       "       [5.7, 3.8, 1.7, 0.3],\n",
       "       [5.1, 3.8, 1.5, 0.3],\n",
       "       [5.4, 3.4, 1.7, 0.2],\n",
       "       [5.1, 3.7, 1.5, 0.4],\n",
       "       [4.6, 3.6, 1. , 0.2],\n",
       "       [5.1, 3.3, 1.7, 0.5],\n",
       "       [4.8, 3.4, 1.9, 0.2],\n",
       "       [5. , 3. , 1.6, 0.2],\n",
       "       [5. , 3.4, 1.6, 0.4],\n",
       "       [5.2, 3.5, 1.5, 0.2],\n",
       "       [5.2, 3.4, 1.4, 0.2],\n",
       "       [4.7, 3.2, 1.6, 0.2],\n",
       "       [4.8, 3.1, 1.6, 0.2],\n",
       "       [5.4, 3.4, 1.5, 0.4],\n",
       "       [5.2, 4.1, 1.5, 0.1],\n",
       "       [5.5, 4.2, 1.4, 0.2],\n",
       "       [4.9, 3.1, 1.5, 0.1],\n",
       "       [5. , 3.2, 1.2, 0.2],\n",
       "       [5.5, 3.5, 1.3, 0.2],\n",
       "       [4.9, 3.1, 1.5, 0.1],\n",
       "       [4.4, 3. , 1.3, 0.2],\n",
       "       [5.1, 3.4, 1.5, 0.2],\n",
       "       [5. , 3.5, 1.3, 0.3],\n",
       "       [4.5, 2.3, 1.3, 0.3],\n",
       "       [4.4, 3.2, 1.3, 0.2],\n",
       "       [5. , 3.5, 1.6, 0.6],\n",
       "       [5.1, 3.8, 1.9, 0.4],\n",
       "       [4.8, 3. , 1.4, 0.3],\n",
       "       [5.1, 3.8, 1.6, 0.2],\n",
       "       [4.6, 3.2, 1.4, 0.2],\n",
       "       [5.3, 3.7, 1.5, 0.2],\n",
       "       [5. , 3.3, 1.4, 0.2],\n",
       "       [7. , 3.2, 4.7, 1.4],\n",
       "       [6.4, 3.2, 4.5, 1.5],\n",
       "       [6.9, 3.1, 4.9, 1.5],\n",
       "       [5.5, 2.3, 4. , 1.3],\n",
       "       [6.5, 2.8, 4.6, 1.5],\n",
       "       [5.7, 2.8, 4.5, 1.3],\n",
       "       [6.3, 3.3, 4.7, 1.6],\n",
       "       [4.9, 2.4, 3.3, 1. ],\n",
       "       [6.6, 2.9, 4.6, 1.3],\n",
       "       [5.2, 2.7, 3.9, 1.4],\n",
       "       [5. , 2. , 3.5, 1. ],\n",
       "       [5.9, 3. , 4.2, 1.5],\n",
       "       [6. , 2.2, 4. , 1. ],\n",
       "       [6.1, 2.9, 4.7, 1.4],\n",
       "       [5.6, 2.9, 3.6, 1.3],\n",
       "       [6.7, 3.1, 4.4, 1.4],\n",
       "       [5.6, 3. , 4.5, 1.5],\n",
       "       [5.8, 2.7, 4.1, 1. ],\n",
       "       [6.2, 2.2, 4.5, 1.5],\n",
       "       [5.6, 2.5, 3.9, 1.1],\n",
       "       [5.9, 3.2, 4.8, 1.8],\n",
       "       [6.1, 2.8, 4. , 1.3],\n",
       "       [6.3, 2.5, 4.9, 1.5],\n",
       "       [6.1, 2.8, 4.7, 1.2],\n",
       "       [6.4, 2.9, 4.3, 1.3],\n",
       "       [6.6, 3. , 4.4, 1.4],\n",
       "       [6.8, 2.8, 4.8, 1.4],\n",
       "       [6.7, 3. , 5. , 1.7],\n",
       "       [6. , 2.9, 4.5, 1.5],\n",
       "       [5.7, 2.6, 3.5, 1. ],\n",
       "       [5.5, 2.4, 3.8, 1.1],\n",
       "       [5.5, 2.4, 3.7, 1. ],\n",
       "       [5.8, 2.7, 3.9, 1.2],\n",
       "       [6. , 2.7, 5.1, 1.6],\n",
       "       [5.4, 3. , 4.5, 1.5],\n",
       "       [6. , 3.4, 4.5, 1.6],\n",
       "       [6.7, 3.1, 4.7, 1.5],\n",
       "       [6.3, 2.3, 4.4, 1.3],\n",
       "       [5.6, 3. , 4.1, 1.3],\n",
       "       [5.5, 2.5, 4. , 1.3],\n",
       "       [5.5, 2.6, 4.4, 1.2],\n",
       "       [6.1, 3. , 4.6, 1.4],\n",
       "       [5.8, 2.6, 4. , 1.2],\n",
       "       [5. , 2.3, 3.3, 1. ],\n",
       "       [5.6, 2.7, 4.2, 1.3],\n",
       "       [5.7, 3. , 4.2, 1.2],\n",
       "       [5.7, 2.9, 4.2, 1.3],\n",
       "       [6.2, 2.9, 4.3, 1.3],\n",
       "       [5.1, 2.5, 3. , 1.1],\n",
       "       [5.7, 2.8, 4.1, 1.3],\n",
       "       [6.3, 3.3, 6. , 2.5],\n",
       "       [5.8, 2.7, 5.1, 1.9],\n",
       "       [7.1, 3. , 5.9, 2.1],\n",
       "       [6.3, 2.9, 5.6, 1.8],\n",
       "       [6.5, 3. , 5.8, 2.2],\n",
       "       [7.6, 3. , 6.6, 2.1],\n",
       "       [4.9, 2.5, 4.5, 1.7],\n",
       "       [7.3, 2.9, 6.3, 1.8],\n",
       "       [6.7, 2.5, 5.8, 1.8],\n",
       "       [7.2, 3.6, 6.1, 2.5],\n",
       "       [6.5, 3.2, 5.1, 2. ],\n",
       "       [6.4, 2.7, 5.3, 1.9],\n",
       "       [6.8, 3. , 5.5, 2.1],\n",
       "       [5.7, 2.5, 5. , 2. ],\n",
       "       [5.8, 2.8, 5.1, 2.4],\n",
       "       [6.4, 3.2, 5.3, 2.3],\n",
       "       [6.5, 3. , 5.5, 1.8],\n",
       "       [7.7, 3.8, 6.7, 2.2],\n",
       "       [7.7, 2.6, 6.9, 2.3],\n",
       "       [6. , 2.2, 5. , 1.5],\n",
       "       [6.9, 3.2, 5.7, 2.3],\n",
       "       [5.6, 2.8, 4.9, 2. ],\n",
       "       [7.7, 2.8, 6.7, 2. ],\n",
       "       [6.3, 2.7, 4.9, 1.8],\n",
       "       [6.7, 3.3, 5.7, 2.1],\n",
       "       [7.2, 3.2, 6. , 1.8],\n",
       "       [6.2, 2.8, 4.8, 1.8],\n",
       "       [6.1, 3. , 4.9, 1.8],\n",
       "       [6.4, 2.8, 5.6, 2.1],\n",
       "       [7.2, 3. , 5.8, 1.6],\n",
       "       [7.4, 2.8, 6.1, 1.9],\n",
       "       [7.9, 3.8, 6.4, 2. ],\n",
       "       [6.4, 2.8, 5.6, 2.2],\n",
       "       [6.3, 2.8, 5.1, 1.5],\n",
       "       [6.1, 2.6, 5.6, 1.4],\n",
       "       [7.7, 3. , 6.1, 2.3],\n",
       "       [6.3, 3.4, 5.6, 2.4],\n",
       "       [6.4, 3.1, 5.5, 1.8],\n",
       "       [6. , 3. , 4.8, 1.8],\n",
       "       [6.9, 3.1, 5.4, 2.1],\n",
       "       [6.7, 3.1, 5.6, 2.4],\n",
       "       [6.9, 3.1, 5.1, 2.3],\n",
       "       [5.8, 2.7, 5.1, 1.9],\n",
       "       [6.8, 3.2, 5.9, 2.3],\n",
       "       [6.7, 3.3, 5.7, 2.5],\n",
       "       [6.7, 3. , 5.2, 2.3],\n",
       "       [6.3, 2.5, 5. , 1.9],\n",
       "       [6.5, 3. , 5.2, 2. ],\n",
       "       [6.2, 3.4, 5.4, 2.3],\n",
       "       [5.9, 3. , 5.1, 1.8]])"
      ]
     },
     "execution_count": 7,
     "metadata": {},
     "output_type": "execute_result"
    }
   ],
   "source": [
    "iris.data"
   ]
  },
  {
   "cell_type": "code",
   "execution_count": 8,
   "metadata": {},
   "outputs": [
    {
     "data": {
      "text/plain": [
       "array([0, 0, 0, 0, 0, 0, 0, 0, 0, 0, 0, 0, 0, 0, 0, 0, 0, 0, 0, 0, 0, 0,\n",
       "       0, 0, 0, 0, 0, 0, 0, 0, 0, 0, 0, 0, 0, 0, 0, 0, 0, 0, 0, 0, 0, 0,\n",
       "       0, 0, 0, 0, 0, 0, 1, 1, 1, 1, 1, 1, 1, 1, 1, 1, 1, 1, 1, 1, 1, 1,\n",
       "       1, 1, 1, 1, 1, 1, 1, 1, 1, 1, 1, 1, 1, 1, 1, 1, 1, 1, 1, 1, 1, 1,\n",
       "       1, 1, 1, 1, 1, 1, 1, 1, 1, 1, 1, 1, 2, 2, 2, 2, 2, 2, 2, 2, 2, 2,\n",
       "       2, 2, 2, 2, 2, 2, 2, 2, 2, 2, 2, 2, 2, 2, 2, 2, 2, 2, 2, 2, 2, 2,\n",
       "       2, 2, 2, 2, 2, 2, 2, 2, 2, 2, 2, 2, 2, 2, 2, 2, 2, 2])"
      ]
     },
     "execution_count": 8,
     "metadata": {},
     "output_type": "execute_result"
    }
   ],
   "source": [
    "iris.target"
   ]
  },
  {
   "cell_type": "code",
   "execution_count": 9,
   "metadata": {},
   "outputs": [],
   "source": [
    "from sklearn import svm"
   ]
  },
  {
   "cell_type": "code",
   "execution_count": 10,
   "metadata": {},
   "outputs": [],
   "source": [
    "clasificador = svm.SVC(gamma=0.001, C=100.0)"
   ]
  },
  {
   "cell_type": "code",
   "execution_count": 11,
   "metadata": {},
   "outputs": [
    {
     "data": {
      "text/plain": [
       "SVC(C=100.0, cache_size=200, class_weight=None, coef0=0.0,\n",
       "  decision_function_shape='ovr', degree=3, gamma=0.001, kernel='rbf',\n",
       "  max_iter=-1, probability=False, random_state=None, shrinking=True,\n",
       "  tol=0.001, verbose=False)"
      ]
     },
     "execution_count": 11,
     "metadata": {},
     "output_type": "execute_result"
    }
   ],
   "source": [
    "clasificador.fit(X=iris.data, y=iris.target)"
   ]
  },
  {
   "cell_type": "code",
   "execution_count": 12,
   "metadata": {},
   "outputs": [
    {
     "data": {
      "text/plain": [
       "array([0, 0, 0, 0, 0, 0, 0, 0, 0, 0, 0, 0, 0, 0, 0, 0, 0, 0, 0, 0, 0, 0,\n",
       "       0, 0, 0, 0, 0, 0, 0, 0, 0, 0, 0, 0, 0, 0, 0, 0, 0, 0, 0, 0, 0, 0,\n",
       "       0, 0, 0, 0, 0, 0, 1, 1, 1, 1, 1, 1, 1, 1, 1, 1, 1, 1, 1, 1, 1, 1,\n",
       "       1, 1, 1, 1, 2, 1, 1, 1, 1, 1, 1, 2, 1, 1, 1, 1, 1, 2, 1, 1, 1, 1,\n",
       "       1, 1, 1, 1, 1, 1, 1, 1, 1, 1, 1, 1, 2, 2, 2, 2, 2, 2, 2, 2, 2, 2,\n",
       "       2, 2, 2, 2, 2, 2, 2, 2, 2, 2, 2, 2, 2, 2, 2, 2, 2, 2, 2, 2, 2, 2,\n",
       "       2, 2, 2, 2, 2, 2, 2, 2, 2, 2, 2, 2, 2, 2, 2, 2, 2, 2])"
      ]
     },
     "execution_count": 12,
     "metadata": {},
     "output_type": "execute_result"
    }
   ],
   "source": [
    "clasificador.predict(iris.data)"
   ]
  },
  {
   "cell_type": "code",
   "execution_count": 13,
   "metadata": {},
   "outputs": [],
   "source": [
    "digits = datasets.load_digits()"
   ]
  },
  {
   "cell_type": "code",
   "execution_count": 14,
   "metadata": {},
   "outputs": [],
   "source": [
    "clasificador2 = svm.SVC(gamma=0.001, C=100.0)"
   ]
  },
  {
   "cell_type": "code",
   "execution_count": 15,
   "metadata": {},
   "outputs": [
    {
     "data": {
      "text/plain": [
       "SVC(C=100.0, cache_size=200, class_weight=None, coef0=0.0,\n",
       "  decision_function_shape='ovr', degree=3, gamma=0.001, kernel='rbf',\n",
       "  max_iter=-1, probability=False, random_state=None, shrinking=True,\n",
       "  tol=0.001, verbose=False)"
      ]
     },
     "execution_count": 15,
     "metadata": {},
     "output_type": "execute_result"
    }
   ],
   "source": [
    "clasificador2.fit(X=digits.data, y=digits.target)"
   ]
  },
  {
   "cell_type": "code",
   "execution_count": 16,
   "metadata": {},
   "outputs": [
    {
     "data": {
      "text/plain": [
       "array([0, 1, 2, ..., 8, 9, 8])"
      ]
     },
     "execution_count": 16,
     "metadata": {},
     "output_type": "execute_result"
    }
   ],
   "source": [
    "clasificador2.predict(digits.data)"
   ]
  },
  {
   "cell_type": "code",
   "execution_count": 17,
   "metadata": {},
   "outputs": [],
   "source": [
    "import numpy as np"
   ]
  },
  {
   "cell_type": "code",
   "execution_count": 18,
   "metadata": {},
   "outputs": [
    {
     "data": {
      "text/plain": [
       "1797"
      ]
     },
     "execution_count": 18,
     "metadata": {},
     "output_type": "execute_result"
    }
   ],
   "source": [
    "np.sum(clasificador2.predict(digits.data) == digits.target)"
   ]
  },
  {
   "cell_type": "code",
   "execution_count": 19,
   "metadata": {},
   "outputs": [
    {
     "data": {
      "text/plain": [
       "0"
      ]
     },
     "execution_count": 19,
     "metadata": {},
     "output_type": "execute_result"
    }
   ],
   "source": [
    "np.sum(clasificador2.predict(digits.data) != digits.target)"
   ]
  },
  {
   "cell_type": "code",
   "execution_count": 20,
   "metadata": {},
   "outputs": [],
   "source": [
    "import pickle"
   ]
  },
  {
   "cell_type": "code",
   "execution_count": 21,
   "metadata": {},
   "outputs": [],
   "source": [
    "open?"
   ]
  },
  {
   "cell_type": "code",
   "execution_count": 22,
   "metadata": {},
   "outputs": [],
   "source": [
    "#Escribir el modelo\n",
    "pickle.dump(clasificador2,open('pp', mode='wb'))"
   ]
  },
  {
   "cell_type": "code",
   "execution_count": 23,
   "metadata": {},
   "outputs": [
    {
     "name": "stdout",
     "output_type": "stream",
     "text": [
      "AprendizajeSupervisado.Rproj  introduccion.R  knn.R        pp\r\n",
      "arbol_de_decision.R           keras.R         mnist_cnn.R  sklearn1.ipynb\r\n"
     ]
    }
   ],
   "source": [
    "ls"
   ]
  },
  {
   "cell_type": "code",
   "execution_count": 24,
   "metadata": {},
   "outputs": [
    {
     "name": "stdout",
     "output_type": "stream",
     "text": [
      "total 528\r\n",
      "-rw-r--r-- 1 dsc dsc    205 mar  1 18:56 AprendizajeSupervisado.Rproj\r\n",
      "-rw-r--r-- 1 dsc dsc    412 mar  1 18:56 arbol_de_decision.R\r\n",
      "-rw-r--r-- 1 dsc dsc    699 mar  1 18:56 introduccion.R\r\n",
      "-rw-r--r-- 1 dsc dsc   1383 mar  1 18:56 keras.R\r\n",
      "-rw-r--r-- 1 dsc dsc    582 mar  1 18:56 knn.R\r\n",
      "-rw-r--r-- 1 dsc dsc   1700 mar  1 18:56 mnist_cnn.R\r\n",
      "-rw-r--r-- 1 dsc dsc 474363 mar  1 19:17 pp\r\n",
      "-rw-r--r-- 1 dsc dsc  37509 mar  1 19:17 sklearn1.ipynb\r\n"
     ]
    }
   ],
   "source": [
    "! ls -l"
   ]
  },
  {
   "cell_type": "code",
   "execution_count": 29,
   "metadata": {},
   "outputs": [
    {
     "data": {
      "text/plain": [
       "SVC(C=100.0, cache_size=200, class_weight=None, coef0=0.0,\n",
       "  decision_function_shape='ovr', degree=3, gamma=0.001, kernel='rbf',\n",
       "  max_iter=-1, probability=False, random_state=None, shrinking=True,\n",
       "  tol=0.001, verbose=False)"
      ]
     },
     "execution_count": 29,
     "metadata": {},
     "output_type": "execute_result"
    }
   ],
   "source": [
    "# cargar el modelo\n",
    "pickle.load(open(\"pp\", \"rb\"))"
   ]
  },
  {
   "cell_type": "code",
   "execution_count": 30,
   "metadata": {},
   "outputs": [],
   "source": [
    "import joblib #otra libreria que hace lo mismo que pickle mas rapida"
   ]
  },
  {
   "cell_type": "code",
   "execution_count": 31,
   "metadata": {},
   "outputs": [
    {
     "name": "stdout",
     "output_type": "stream",
     "text": [
      "Requirement already satisfied: joblib in /home/dsc/anaconda3/lib/python3.6/site-packages\n",
      "\u001b[33mYou are using pip version 9.0.1, however version 19.0.3 is available.\n",
      "You should consider upgrading via the 'pip install --upgrade pip' command.\u001b[0m\n"
     ]
    }
   ],
   "source": [
    "! pip install joblib"
   ]
  },
  {
   "cell_type": "code",
   "execution_count": 32,
   "metadata": {},
   "outputs": [
    {
     "data": {
      "text/plain": [
       "['clasificador2']"
      ]
     },
     "execution_count": 32,
     "metadata": {},
     "output_type": "execute_result"
    }
   ],
   "source": [
    "joblib.dump(clasificador2, \"clasificador2\")"
   ]
  },
  {
   "cell_type": "code",
   "execution_count": 33,
   "metadata": {},
   "outputs": [
    {
     "data": {
      "text/plain": [
       "SVC(C=100.0, cache_size=200, class_weight=None, coef0=0.0,\n",
       "  decision_function_shape='ovr', degree=3, gamma=0.001, kernel='rbf',\n",
       "  max_iter=-1, probability=False, random_state=None, shrinking=True,\n",
       "  tol=0.001, verbose=False)"
      ]
     },
     "execution_count": 33,
     "metadata": {},
     "output_type": "execute_result"
    }
   ],
   "source": [
    "joblib.load( \"clasificador2\")"
   ]
  },
  {
   "cell_type": "code",
   "execution_count": 34,
   "metadata": {},
   "outputs": [
    {
     "data": {
      "text/plain": [
       "0.001"
      ]
     },
     "execution_count": 34,
     "metadata": {},
     "output_type": "execute_result"
    }
   ],
   "source": [
    "clasificador2.gamma"
   ]
  },
  {
   "cell_type": "markdown",
   "metadata": {},
   "source": [
    "## KNN"
   ]
  },
  {
   "cell_type": "code",
   "execution_count": 35,
   "metadata": {},
   "outputs": [],
   "source": [
    "import numpy as np"
   ]
  },
  {
   "cell_type": "code",
   "execution_count": 36,
   "metadata": {},
   "outputs": [
    {
     "data": {
      "text/plain": [
       "{'DESCR': 'Iris Plants Database\\n====================\\n\\nNotes\\n-----\\nData Set Characteristics:\\n    :Number of Instances: 150 (50 in each of three classes)\\n    :Number of Attributes: 4 numeric, predictive attributes and the class\\n    :Attribute Information:\\n        - sepal length in cm\\n        - sepal width in cm\\n        - petal length in cm\\n        - petal width in cm\\n        - class:\\n                - Iris-Setosa\\n                - Iris-Versicolour\\n                - Iris-Virginica\\n    :Summary Statistics:\\n\\n    ============== ==== ==== ======= ===== ====================\\n                    Min  Max   Mean    SD   Class Correlation\\n    ============== ==== ==== ======= ===== ====================\\n    sepal length:   4.3  7.9   5.84   0.83    0.7826\\n    sepal width:    2.0  4.4   3.05   0.43   -0.4194\\n    petal length:   1.0  6.9   3.76   1.76    0.9490  (high!)\\n    petal width:    0.1  2.5   1.20  0.76     0.9565  (high!)\\n    ============== ==== ==== ======= ===== ====================\\n\\n    :Missing Attribute Values: None\\n    :Class Distribution: 33.3% for each of 3 classes.\\n    :Creator: R.A. Fisher\\n    :Donor: Michael Marshall (MARSHALL%PLU@io.arc.nasa.gov)\\n    :Date: July, 1988\\n\\nThis is a copy of UCI ML iris datasets.\\nhttp://archive.ics.uci.edu/ml/datasets/Iris\\n\\nThe famous Iris database, first used by Sir R.A Fisher\\n\\nThis is perhaps the best known database to be found in the\\npattern recognition literature.  Fisher\\'s paper is a classic in the field and\\nis referenced frequently to this day.  (See Duda & Hart, for example.)  The\\ndata set contains 3 classes of 50 instances each, where each class refers to a\\ntype of iris plant.  One class is linearly separable from the other 2; the\\nlatter are NOT linearly separable from each other.\\n\\nReferences\\n----------\\n   - Fisher,R.A. \"The use of multiple measurements in taxonomic problems\"\\n     Annual Eugenics, 7, Part II, 179-188 (1936); also in \"Contributions to\\n     Mathematical Statistics\" (John Wiley, NY, 1950).\\n   - Duda,R.O., & Hart,P.E. (1973) Pattern Classification and Scene Analysis.\\n     (Q327.D83) John Wiley & Sons.  ISBN 0-471-22361-1.  See page 218.\\n   - Dasarathy, B.V. (1980) \"Nosing Around the Neighborhood: A New System\\n     Structure and Classification Rule for Recognition in Partially Exposed\\n     Environments\".  IEEE Transactions on Pattern Analysis and Machine\\n     Intelligence, Vol. PAMI-2, No. 1, 67-71.\\n   - Gates, G.W. (1972) \"The Reduced Nearest Neighbor Rule\".  IEEE Transactions\\n     on Information Theory, May 1972, 431-433.\\n   - See also: 1988 MLC Proceedings, 54-64.  Cheeseman et al\"s AUTOCLASS II\\n     conceptual clustering system finds 3 classes in the data.\\n   - Many, many more ...\\n',\n",
       " 'data': array([[5.1, 3.5, 1.4, 0.2],\n",
       "        [4.9, 3. , 1.4, 0.2],\n",
       "        [4.7, 3.2, 1.3, 0.2],\n",
       "        [4.6, 3.1, 1.5, 0.2],\n",
       "        [5. , 3.6, 1.4, 0.2],\n",
       "        [5.4, 3.9, 1.7, 0.4],\n",
       "        [4.6, 3.4, 1.4, 0.3],\n",
       "        [5. , 3.4, 1.5, 0.2],\n",
       "        [4.4, 2.9, 1.4, 0.2],\n",
       "        [4.9, 3.1, 1.5, 0.1],\n",
       "        [5.4, 3.7, 1.5, 0.2],\n",
       "        [4.8, 3.4, 1.6, 0.2],\n",
       "        [4.8, 3. , 1.4, 0.1],\n",
       "        [4.3, 3. , 1.1, 0.1],\n",
       "        [5.8, 4. , 1.2, 0.2],\n",
       "        [5.7, 4.4, 1.5, 0.4],\n",
       "        [5.4, 3.9, 1.3, 0.4],\n",
       "        [5.1, 3.5, 1.4, 0.3],\n",
       "        [5.7, 3.8, 1.7, 0.3],\n",
       "        [5.1, 3.8, 1.5, 0.3],\n",
       "        [5.4, 3.4, 1.7, 0.2],\n",
       "        [5.1, 3.7, 1.5, 0.4],\n",
       "        [4.6, 3.6, 1. , 0.2],\n",
       "        [5.1, 3.3, 1.7, 0.5],\n",
       "        [4.8, 3.4, 1.9, 0.2],\n",
       "        [5. , 3. , 1.6, 0.2],\n",
       "        [5. , 3.4, 1.6, 0.4],\n",
       "        [5.2, 3.5, 1.5, 0.2],\n",
       "        [5.2, 3.4, 1.4, 0.2],\n",
       "        [4.7, 3.2, 1.6, 0.2],\n",
       "        [4.8, 3.1, 1.6, 0.2],\n",
       "        [5.4, 3.4, 1.5, 0.4],\n",
       "        [5.2, 4.1, 1.5, 0.1],\n",
       "        [5.5, 4.2, 1.4, 0.2],\n",
       "        [4.9, 3.1, 1.5, 0.1],\n",
       "        [5. , 3.2, 1.2, 0.2],\n",
       "        [5.5, 3.5, 1.3, 0.2],\n",
       "        [4.9, 3.1, 1.5, 0.1],\n",
       "        [4.4, 3. , 1.3, 0.2],\n",
       "        [5.1, 3.4, 1.5, 0.2],\n",
       "        [5. , 3.5, 1.3, 0.3],\n",
       "        [4.5, 2.3, 1.3, 0.3],\n",
       "        [4.4, 3.2, 1.3, 0.2],\n",
       "        [5. , 3.5, 1.6, 0.6],\n",
       "        [5.1, 3.8, 1.9, 0.4],\n",
       "        [4.8, 3. , 1.4, 0.3],\n",
       "        [5.1, 3.8, 1.6, 0.2],\n",
       "        [4.6, 3.2, 1.4, 0.2],\n",
       "        [5.3, 3.7, 1.5, 0.2],\n",
       "        [5. , 3.3, 1.4, 0.2],\n",
       "        [7. , 3.2, 4.7, 1.4],\n",
       "        [6.4, 3.2, 4.5, 1.5],\n",
       "        [6.9, 3.1, 4.9, 1.5],\n",
       "        [5.5, 2.3, 4. , 1.3],\n",
       "        [6.5, 2.8, 4.6, 1.5],\n",
       "        [5.7, 2.8, 4.5, 1.3],\n",
       "        [6.3, 3.3, 4.7, 1.6],\n",
       "        [4.9, 2.4, 3.3, 1. ],\n",
       "        [6.6, 2.9, 4.6, 1.3],\n",
       "        [5.2, 2.7, 3.9, 1.4],\n",
       "        [5. , 2. , 3.5, 1. ],\n",
       "        [5.9, 3. , 4.2, 1.5],\n",
       "        [6. , 2.2, 4. , 1. ],\n",
       "        [6.1, 2.9, 4.7, 1.4],\n",
       "        [5.6, 2.9, 3.6, 1.3],\n",
       "        [6.7, 3.1, 4.4, 1.4],\n",
       "        [5.6, 3. , 4.5, 1.5],\n",
       "        [5.8, 2.7, 4.1, 1. ],\n",
       "        [6.2, 2.2, 4.5, 1.5],\n",
       "        [5.6, 2.5, 3.9, 1.1],\n",
       "        [5.9, 3.2, 4.8, 1.8],\n",
       "        [6.1, 2.8, 4. , 1.3],\n",
       "        [6.3, 2.5, 4.9, 1.5],\n",
       "        [6.1, 2.8, 4.7, 1.2],\n",
       "        [6.4, 2.9, 4.3, 1.3],\n",
       "        [6.6, 3. , 4.4, 1.4],\n",
       "        [6.8, 2.8, 4.8, 1.4],\n",
       "        [6.7, 3. , 5. , 1.7],\n",
       "        [6. , 2.9, 4.5, 1.5],\n",
       "        [5.7, 2.6, 3.5, 1. ],\n",
       "        [5.5, 2.4, 3.8, 1.1],\n",
       "        [5.5, 2.4, 3.7, 1. ],\n",
       "        [5.8, 2.7, 3.9, 1.2],\n",
       "        [6. , 2.7, 5.1, 1.6],\n",
       "        [5.4, 3. , 4.5, 1.5],\n",
       "        [6. , 3.4, 4.5, 1.6],\n",
       "        [6.7, 3.1, 4.7, 1.5],\n",
       "        [6.3, 2.3, 4.4, 1.3],\n",
       "        [5.6, 3. , 4.1, 1.3],\n",
       "        [5.5, 2.5, 4. , 1.3],\n",
       "        [5.5, 2.6, 4.4, 1.2],\n",
       "        [6.1, 3. , 4.6, 1.4],\n",
       "        [5.8, 2.6, 4. , 1.2],\n",
       "        [5. , 2.3, 3.3, 1. ],\n",
       "        [5.6, 2.7, 4.2, 1.3],\n",
       "        [5.7, 3. , 4.2, 1.2],\n",
       "        [5.7, 2.9, 4.2, 1.3],\n",
       "        [6.2, 2.9, 4.3, 1.3],\n",
       "        [5.1, 2.5, 3. , 1.1],\n",
       "        [5.7, 2.8, 4.1, 1.3],\n",
       "        [6.3, 3.3, 6. , 2.5],\n",
       "        [5.8, 2.7, 5.1, 1.9],\n",
       "        [7.1, 3. , 5.9, 2.1],\n",
       "        [6.3, 2.9, 5.6, 1.8],\n",
       "        [6.5, 3. , 5.8, 2.2],\n",
       "        [7.6, 3. , 6.6, 2.1],\n",
       "        [4.9, 2.5, 4.5, 1.7],\n",
       "        [7.3, 2.9, 6.3, 1.8],\n",
       "        [6.7, 2.5, 5.8, 1.8],\n",
       "        [7.2, 3.6, 6.1, 2.5],\n",
       "        [6.5, 3.2, 5.1, 2. ],\n",
       "        [6.4, 2.7, 5.3, 1.9],\n",
       "        [6.8, 3. , 5.5, 2.1],\n",
       "        [5.7, 2.5, 5. , 2. ],\n",
       "        [5.8, 2.8, 5.1, 2.4],\n",
       "        [6.4, 3.2, 5.3, 2.3],\n",
       "        [6.5, 3. , 5.5, 1.8],\n",
       "        [7.7, 3.8, 6.7, 2.2],\n",
       "        [7.7, 2.6, 6.9, 2.3],\n",
       "        [6. , 2.2, 5. , 1.5],\n",
       "        [6.9, 3.2, 5.7, 2.3],\n",
       "        [5.6, 2.8, 4.9, 2. ],\n",
       "        [7.7, 2.8, 6.7, 2. ],\n",
       "        [6.3, 2.7, 4.9, 1.8],\n",
       "        [6.7, 3.3, 5.7, 2.1],\n",
       "        [7.2, 3.2, 6. , 1.8],\n",
       "        [6.2, 2.8, 4.8, 1.8],\n",
       "        [6.1, 3. , 4.9, 1.8],\n",
       "        [6.4, 2.8, 5.6, 2.1],\n",
       "        [7.2, 3. , 5.8, 1.6],\n",
       "        [7.4, 2.8, 6.1, 1.9],\n",
       "        [7.9, 3.8, 6.4, 2. ],\n",
       "        [6.4, 2.8, 5.6, 2.2],\n",
       "        [6.3, 2.8, 5.1, 1.5],\n",
       "        [6.1, 2.6, 5.6, 1.4],\n",
       "        [7.7, 3. , 6.1, 2.3],\n",
       "        [6.3, 3.4, 5.6, 2.4],\n",
       "        [6.4, 3.1, 5.5, 1.8],\n",
       "        [6. , 3. , 4.8, 1.8],\n",
       "        [6.9, 3.1, 5.4, 2.1],\n",
       "        [6.7, 3.1, 5.6, 2.4],\n",
       "        [6.9, 3.1, 5.1, 2.3],\n",
       "        [5.8, 2.7, 5.1, 1.9],\n",
       "        [6.8, 3.2, 5.9, 2.3],\n",
       "        [6.7, 3.3, 5.7, 2.5],\n",
       "        [6.7, 3. , 5.2, 2.3],\n",
       "        [6.3, 2.5, 5. , 1.9],\n",
       "        [6.5, 3. , 5.2, 2. ],\n",
       "        [6.2, 3.4, 5.4, 2.3],\n",
       "        [5.9, 3. , 5.1, 1.8]]),\n",
       " 'feature_names': ['sepal length (cm)',\n",
       "  'sepal width (cm)',\n",
       "  'petal length (cm)',\n",
       "  'petal width (cm)'],\n",
       " 'target': array([0, 0, 0, 0, 0, 0, 0, 0, 0, 0, 0, 0, 0, 0, 0, 0, 0, 0, 0, 0, 0, 0,\n",
       "        0, 0, 0, 0, 0, 0, 0, 0, 0, 0, 0, 0, 0, 0, 0, 0, 0, 0, 0, 0, 0, 0,\n",
       "        0, 0, 0, 0, 0, 0, 1, 1, 1, 1, 1, 1, 1, 1, 1, 1, 1, 1, 1, 1, 1, 1,\n",
       "        1, 1, 1, 1, 1, 1, 1, 1, 1, 1, 1, 1, 1, 1, 1, 1, 1, 1, 1, 1, 1, 1,\n",
       "        1, 1, 1, 1, 1, 1, 1, 1, 1, 1, 1, 1, 2, 2, 2, 2, 2, 2, 2, 2, 2, 2,\n",
       "        2, 2, 2, 2, 2, 2, 2, 2, 2, 2, 2, 2, 2, 2, 2, 2, 2, 2, 2, 2, 2, 2,\n",
       "        2, 2, 2, 2, 2, 2, 2, 2, 2, 2, 2, 2, 2, 2, 2, 2, 2, 2]),\n",
       " 'target_names': array(['setosa', 'versicolor', 'virginica'], dtype='<U10')}"
      ]
     },
     "execution_count": 36,
     "metadata": {},
     "output_type": "execute_result"
    }
   ],
   "source": [
    "iris"
   ]
  },
  {
   "cell_type": "code",
   "execution_count": 37,
   "metadata": {},
   "outputs": [
    {
     "data": {
      "text/plain": [
       "(150, 4)"
      ]
     },
     "execution_count": 37,
     "metadata": {},
     "output_type": "execute_result"
    }
   ],
   "source": [
    "iris.data.shape"
   ]
  },
  {
   "cell_type": "code",
   "execution_count": 38,
   "metadata": {},
   "outputs": [
    {
     "data": {
      "text/plain": [
       "array([ 33,  60,  92,  77, 145,  74,   4,  47, 138, 112,  51,  26,  81,\n",
       "        75,  40,  25, 125,  89,  38, 113,  84, 119, 146,  22,  24,  12,\n",
       "        90, 116,  19,  34, 149,  32, 108,  98,  73, 105,  37,  46,  44,\n",
       "        79, 135,  76, 100,  57,  10,  72, 136,  16,  66, 137,  13,  69,\n",
       "       126, 117,  20,  29,  71,   5,  43,  28, 114, 148,  63, 115,  18,\n",
       "       127, 132,  54,  64, 133, 143,  52,  82,  55,  50, 131,   8,  61,\n",
       "         9,  49,  94,  59,  62, 147,  80,  83, 134,  58, 144,  39,  41,\n",
       "        35,   1,  91,  17,  31, 128,  53,  21,   0,  23,  88,  42, 142,\n",
       "        68, 124, 120,   3, 107, 106, 130, 101, 123,  65, 109,  14, 104,\n",
       "        45,  96,  70,  48, 102,  27, 111,   6,  99,  30,  86, 110,  97,\n",
       "        36,   2,  56,  15, 129, 121, 118, 122, 139,  78,  95, 140, 103,\n",
       "       141,  87,  85,  11,   7,  93,  67])"
      ]
     },
     "execution_count": 38,
     "metadata": {},
     "output_type": "execute_result"
    }
   ],
   "source": [
    "# desordenamos para crear el training y test\n",
    "np.random.permutation(150)"
   ]
  },
  {
   "cell_type": "code",
   "execution_count": 39,
   "metadata": {},
   "outputs": [],
   "source": [
    "idx = np.random.permutation(150)"
   ]
  },
  {
   "cell_type": "code",
   "execution_count": 40,
   "metadata": {},
   "outputs": [],
   "source": [
    "iris_X_train = iris.data[idx[:-20]]\n",
    "iris_y_train = iris.target[idx[:-20]]\n",
    "iris_X_test = iris.data[idx[-20:]]\n",
    "iris_y_test = iris.target[idx[-20:]]"
   ]
  },
  {
   "cell_type": "code",
   "execution_count": 41,
   "metadata": {},
   "outputs": [],
   "source": [
    "knn = sklearn.neighbors.KNeighborsClassifier()"
   ]
  },
  {
   "cell_type": "code",
   "execution_count": 42,
   "metadata": {
    "scrolled": true
   },
   "outputs": [
    {
     "data": {
      "text/plain": [
       "KNeighborsClassifier(algorithm='auto', leaf_size=30, metric='minkowski',\n",
       "           metric_params=None, n_jobs=1, n_neighbors=5, p=2,\n",
       "           weights='uniform')"
      ]
     },
     "execution_count": 42,
     "metadata": {},
     "output_type": "execute_result"
    }
   ],
   "source": [
    "knn.fit(iris_X_train, iris_y_train)"
   ]
  },
  {
   "cell_type": "code",
   "execution_count": 43,
   "metadata": {},
   "outputs": [
    {
     "data": {
      "text/plain": [
       "array([2, 1, 0, 1, 0, 1, 1, 2, 2, 0, 0, 0, 0, 0, 2, 0, 1, 1, 0, 0])"
      ]
     },
     "execution_count": 43,
     "metadata": {},
     "output_type": "execute_result"
    }
   ],
   "source": [
    "knn.predict(iris_X_test)"
   ]
  },
  {
   "cell_type": "code",
   "execution_count": 44,
   "metadata": {},
   "outputs": [
    {
     "data": {
      "text/plain": [
       "array([ True,  True,  True,  True,  True,  True,  True,  True,  True,\n",
       "        True,  True,  True,  True,  True, False,  True,  True,  True,\n",
       "        True,  True])"
      ]
     },
     "execution_count": 44,
     "metadata": {},
     "output_type": "execute_result"
    }
   ],
   "source": [
    "knn.predict(iris_X_test) == iris_y_test"
   ]
  },
  {
   "cell_type": "code",
   "execution_count": 45,
   "metadata": {},
   "outputs": [],
   "source": [
    "from IPython.display import Image"
   ]
  },
  {
   "cell_type": "code",
   "execution_count": 46,
   "metadata": {},
   "outputs": [
    {
     "data": {
      "text/html": [
       "<img src=\"https://scikit-learn.org/stable/_images/sphx_glr_plot_iris_0012.png\"/>"
      ],
      "text/plain": [
       "<IPython.core.display.Image object>"
      ]
     },
     "execution_count": 46,
     "metadata": {},
     "output_type": "execute_result"
    }
   ],
   "source": [
    "Image(url=\"https://scikit-learn.org/stable/_images/sphx_glr_plot_iris_0012.png\")"
   ]
  },
  {
   "cell_type": "code",
   "execution_count": null,
   "metadata": {},
   "outputs": [],
   "source": []
  },
  {
   "cell_type": "markdown",
   "metadata": {},
   "source": [
    "## Model selection"
   ]
  },
  {
   "cell_type": "markdown",
   "metadata": {},
   "source": [
    "#### Te busca los hiperparametros mejores para un modelo"
   ]
  },
  {
   "cell_type": "code",
   "execution_count": 49,
   "metadata": {},
   "outputs": [],
   "source": [
    "#sklearn.model_selection.GridSearchCV\n",
    "#sklearn.model_selection.RandomizedSearchCV\n"
   ]
  },
  {
   "cell_type": "code",
   "execution_count": 50,
   "metadata": {},
   "outputs": [
    {
     "data": {
      "text/plain": [
       "{'C': 100.0,\n",
       " 'cache_size': 200,\n",
       " 'class_weight': None,\n",
       " 'coef0': 0.0,\n",
       " 'decision_function_shape': 'ovr',\n",
       " 'degree': 3,\n",
       " 'gamma': 0.001,\n",
       " 'kernel': 'rbf',\n",
       " 'max_iter': -1,\n",
       " 'probability': False,\n",
       " 'random_state': None,\n",
       " 'shrinking': True,\n",
       " 'tol': 0.001,\n",
       " 'verbose': False}"
      ]
     },
     "execution_count": 50,
     "metadata": {},
     "output_type": "execute_result"
    }
   ],
   "source": [
    "clasificador2.get_params()"
   ]
  },
  {
   "cell_type": "code",
   "execution_count": 51,
   "metadata": {},
   "outputs": [],
   "source": [
    "param_grid = [\n",
    "    {\n",
    "        \"C\" : [1, 15, 30, 50, 100, 150, 250, 1000]\n",
    "    }\n",
    "]"
   ]
  },
  {
   "cell_type": "code",
   "execution_count": 52,
   "metadata": {},
   "outputs": [
    {
     "data": {
      "text/plain": [
       "[{'C': [1, 15, 30, 50, 100, 150, 250, 1000]}]"
      ]
     },
     "execution_count": 52,
     "metadata": {},
     "output_type": "execute_result"
    }
   ],
   "source": [
    "param_grid"
   ]
  },
  {
   "cell_type": "code",
   "execution_count": 59,
   "metadata": {},
   "outputs": [],
   "source": [
    "gridSearch = sklearn.model_selection.GridSearchCV(clasificador2, param_grid , cv=5)"
   ]
  },
  {
   "cell_type": "code",
   "execution_count": 60,
   "metadata": {},
   "outputs": [
    {
     "data": {
      "text/plain": [
       "GridSearchCV(cv=5, error_score='raise',\n",
       "       estimator=SVC(C=100.0, cache_size=200, class_weight=None, coef0=0.0,\n",
       "  decision_function_shape='ovr', degree=3, gamma=0.001, kernel='rbf',\n",
       "  max_iter=-1, probability=False, random_state=None, shrinking=True,\n",
       "  tol=0.001, verbose=False),\n",
       "       fit_params=None, iid=True, n_jobs=1,\n",
       "       param_grid=[{'C': [1, 15, 30, 50, 100, 150, 250, 1000]}],\n",
       "       pre_dispatch='2*n_jobs', refit=True, return_train_score='warn',\n",
       "       scoring=None, verbose=0)"
      ]
     },
     "execution_count": 60,
     "metadata": {},
     "output_type": "execute_result"
    }
   ],
   "source": [
    "gridSearch.fit(digits.data, digits.target)"
   ]
  },
  {
   "cell_type": "code",
   "execution_count": 61,
   "metadata": {},
   "outputs": [
    {
     "name": "stderr",
     "output_type": "stream",
     "text": [
      "/home/dsc/anaconda3/lib/python3.6/site-packages/sklearn/utils/deprecation.py:122: FutureWarning: You are accessing a training score ('mean_train_score'), which will not be available by default any more in 0.21. If you need training scores, please set return_train_score=True\n",
      "  warnings.warn(*warn_args, **warn_kwargs)\n",
      "/home/dsc/anaconda3/lib/python3.6/site-packages/sklearn/utils/deprecation.py:122: FutureWarning: You are accessing a training score ('split0_train_score'), which will not be available by default any more in 0.21. If you need training scores, please set return_train_score=True\n",
      "  warnings.warn(*warn_args, **warn_kwargs)\n",
      "/home/dsc/anaconda3/lib/python3.6/site-packages/sklearn/utils/deprecation.py:122: FutureWarning: You are accessing a training score ('split1_train_score'), which will not be available by default any more in 0.21. If you need training scores, please set return_train_score=True\n",
      "  warnings.warn(*warn_args, **warn_kwargs)\n",
      "/home/dsc/anaconda3/lib/python3.6/site-packages/sklearn/utils/deprecation.py:122: FutureWarning: You are accessing a training score ('split2_train_score'), which will not be available by default any more in 0.21. If you need training scores, please set return_train_score=True\n",
      "  warnings.warn(*warn_args, **warn_kwargs)\n",
      "/home/dsc/anaconda3/lib/python3.6/site-packages/sklearn/utils/deprecation.py:122: FutureWarning: You are accessing a training score ('split3_train_score'), which will not be available by default any more in 0.21. If you need training scores, please set return_train_score=True\n",
      "  warnings.warn(*warn_args, **warn_kwargs)\n",
      "/home/dsc/anaconda3/lib/python3.6/site-packages/sklearn/utils/deprecation.py:122: FutureWarning: You are accessing a training score ('split4_train_score'), which will not be available by default any more in 0.21. If you need training scores, please set return_train_score=True\n",
      "  warnings.warn(*warn_args, **warn_kwargs)\n",
      "/home/dsc/anaconda3/lib/python3.6/site-packages/sklearn/utils/deprecation.py:122: FutureWarning: You are accessing a training score ('std_train_score'), which will not be available by default any more in 0.21. If you need training scores, please set return_train_score=True\n",
      "  warnings.warn(*warn_args, **warn_kwargs)\n"
     ]
    },
    {
     "data": {
      "text/plain": [
       "{'mean_fit_time': array([0.17261033, 0.16023498, 0.20490484, 0.22008028, 0.16868334,\n",
       "        0.2000514 , 0.22763538, 0.18248582]),\n",
       " 'mean_score_time': array([0.04079809, 0.03450103, 0.05246015, 0.04857373, 0.03192544,\n",
       "        0.05035338, 0.05078773, 0.03321276]),\n",
       " 'mean_test_score': array([0.97161937, 0.97273233, 0.97273233, 0.97273233, 0.97273233,\n",
       "        0.97273233, 0.97273233, 0.97273233]),\n",
       " 'mean_train_score': array([0.99888705, 1.        , 1.        , 1.        , 1.        ,\n",
       "        1.        , 1.        , 1.        ]),\n",
       " 'param_C': masked_array(data=[1, 15, 30, 50, 100, 150, 250, 1000],\n",
       "              mask=[False, False, False, False, False, False, False, False],\n",
       "        fill_value='?',\n",
       "             dtype=object),\n",
       " 'params': [{'C': 1},\n",
       "  {'C': 15},\n",
       "  {'C': 30},\n",
       "  {'C': 50},\n",
       "  {'C': 100},\n",
       "  {'C': 150},\n",
       "  {'C': 250},\n",
       "  {'C': 1000}],\n",
       " 'rank_test_score': array([8, 1, 1, 1, 1, 1, 1, 1], dtype=int32),\n",
       " 'split0_test_score': array([0.97527473, 0.97802198, 0.97802198, 0.97802198, 0.97802198,\n",
       "        0.97802198, 0.97802198, 0.97802198]),\n",
       " 'split0_train_score': array([0.99930216, 1.        , 1.        , 1.        , 1.        ,\n",
       "        1.        , 1.        , 1.        ]),\n",
       " 'split1_test_score': array([0.95027624, 0.95027624, 0.95027624, 0.95027624, 0.95027624,\n",
       "        0.95027624, 0.95027624, 0.95027624]),\n",
       " 'split1_train_score': array([0.99860627, 1.        , 1.        , 1.        , 1.        ,\n",
       "        1.        , 1.        , 1.        ]),\n",
       " 'split2_test_score': array([0.98328691, 0.98328691, 0.98328691, 0.98328691, 0.98328691,\n",
       "        0.98328691, 0.98328691, 0.98328691]),\n",
       " 'split2_train_score': array([0.99860918, 1.        , 1.        , 1.        , 1.        ,\n",
       "        1.        , 1.        , 1.        ]),\n",
       " 'split3_test_score': array([0.99159664, 0.98879552, 0.98879552, 0.98879552, 0.98879552,\n",
       "        0.98879552, 0.98879552, 0.98879552]),\n",
       " 'split3_train_score': array([0.99861111, 1.        , 1.        , 1.        , 1.        ,\n",
       "        1.        , 1.        , 1.        ]),\n",
       " 'split4_test_score': array([0.95774648, 0.96338028, 0.96338028, 0.96338028, 0.96338028,\n",
       "        0.96338028, 0.96338028, 0.96338028]),\n",
       " 'split4_train_score': array([0.99930652, 1.        , 1.        , 1.        , 1.        ,\n",
       "        1.        , 1.        , 1.        ]),\n",
       " 'std_fit_time': array([0.02554955, 0.0164153 , 0.02552798, 0.03399272, 0.03293369,\n",
       "        0.03571403, 0.04723058, 0.04955043]),\n",
       " 'std_score_time': array([0.01017169, 0.01165598, 0.0182479 , 0.02184061, 0.01009704,\n",
       "        0.01282715, 0.02583467, 0.00651724]),\n",
       " 'std_test_score': array([0.01545875, 0.01407289, 0.01407289, 0.01407289, 0.01407289,\n",
       "        0.01407289, 0.01407289, 0.01407289]),\n",
       " 'std_train_score': array([0.00034072, 0.        , 0.        , 0.        , 0.        ,\n",
       "        0.        , 0.        , 0.        ])}"
      ]
     },
     "execution_count": 61,
     "metadata": {},
     "output_type": "execute_result"
    }
   ],
   "source": [
    "gridSearch.cv_results_"
   ]
  },
  {
   "cell_type": "code",
   "execution_count": 62,
   "metadata": {},
   "outputs": [
    {
     "data": {
      "text/plain": [
       "array([0, 1, 2, ..., 8, 9, 8])"
      ]
     },
     "execution_count": 62,
     "metadata": {},
     "output_type": "execute_result"
    }
   ],
   "source": [
    "gridSearch.predict(digits.data)"
   ]
  },
  {
   "cell_type": "code",
   "execution_count": 63,
   "metadata": {},
   "outputs": [],
   "source": [
    "param_grid = [\n",
    "    {\n",
    "        \"C\" : [1, 15, 30, 50, 100, 150, 250, 1000],\n",
    "        \"kernel\": [\"linear\"]\n",
    "    },\n",
    "    {\n",
    "        \"C\" : [1, 10, 100, 500],\n",
    "        \"kernel\": [\"rbf\"]\n",
    "    }\n",
    "]"
   ]
  },
  {
   "cell_type": "code",
   "execution_count": 64,
   "metadata": {},
   "outputs": [],
   "source": [
    "gridSearch2 = sklearn.model_selection.GridSearchCV(clasificador2, param_grid , cv=5)"
   ]
  },
  {
   "cell_type": "code",
   "execution_count": 66,
   "metadata": {},
   "outputs": [
    {
     "data": {
      "text/plain": [
       "GridSearchCV(cv=5, error_score='raise',\n",
       "       estimator=SVC(C=100.0, cache_size=200, class_weight=None, coef0=0.0,\n",
       "  decision_function_shape='ovr', degree=3, gamma=0.001, kernel='rbf',\n",
       "  max_iter=-1, probability=False, random_state=None, shrinking=True,\n",
       "  tol=0.001, verbose=False),\n",
       "       fit_params=None, iid=True, n_jobs=1,\n",
       "       param_grid=[{'C': [1, 15, 30, 50, 100, 150, 250, 1000], 'kernel': ['linear']}, {'C': [1, 10, 100, 500], 'kernel': ['rbf']}],\n",
       "       pre_dispatch='2*n_jobs', refit=True, return_train_score='warn',\n",
       "       scoring=None, verbose=0)"
      ]
     },
     "execution_count": 66,
     "metadata": {},
     "output_type": "execute_result"
    }
   ],
   "source": [
    "gridSearch2.fit(digits.data, digits.target)"
   ]
  },
  {
   "cell_type": "code",
   "execution_count": 68,
   "metadata": {
    "scrolled": false
   },
   "outputs": [
    {
     "name": "stderr",
     "output_type": "stream",
     "text": [
      "/home/dsc/anaconda3/lib/python3.6/site-packages/sklearn/utils/deprecation.py:122: FutureWarning: You are accessing a training score ('mean_train_score'), which will not be available by default any more in 0.21. If you need training scores, please set return_train_score=True\n",
      "  warnings.warn(*warn_args, **warn_kwargs)\n",
      "/home/dsc/anaconda3/lib/python3.6/site-packages/sklearn/utils/deprecation.py:122: FutureWarning: You are accessing a training score ('split0_train_score'), which will not be available by default any more in 0.21. If you need training scores, please set return_train_score=True\n",
      "  warnings.warn(*warn_args, **warn_kwargs)\n",
      "/home/dsc/anaconda3/lib/python3.6/site-packages/sklearn/utils/deprecation.py:122: FutureWarning: You are accessing a training score ('split1_train_score'), which will not be available by default any more in 0.21. If you need training scores, please set return_train_score=True\n",
      "  warnings.warn(*warn_args, **warn_kwargs)\n",
      "/home/dsc/anaconda3/lib/python3.6/site-packages/sklearn/utils/deprecation.py:122: FutureWarning: You are accessing a training score ('split2_train_score'), which will not be available by default any more in 0.21. If you need training scores, please set return_train_score=True\n",
      "  warnings.warn(*warn_args, **warn_kwargs)\n",
      "/home/dsc/anaconda3/lib/python3.6/site-packages/sklearn/utils/deprecation.py:122: FutureWarning: You are accessing a training score ('split3_train_score'), which will not be available by default any more in 0.21. If you need training scores, please set return_train_score=True\n",
      "  warnings.warn(*warn_args, **warn_kwargs)\n",
      "/home/dsc/anaconda3/lib/python3.6/site-packages/sklearn/utils/deprecation.py:122: FutureWarning: You are accessing a training score ('split4_train_score'), which will not be available by default any more in 0.21. If you need training scores, please set return_train_score=True\n",
      "  warnings.warn(*warn_args, **warn_kwargs)\n",
      "/home/dsc/anaconda3/lib/python3.6/site-packages/sklearn/utils/deprecation.py:122: FutureWarning: You are accessing a training score ('std_train_score'), which will not be available by default any more in 0.21. If you need training scores, please set return_train_score=True\n",
      "  warnings.warn(*warn_args, **warn_kwargs)\n"
     ]
    },
    {
     "data": {
      "text/plain": [
       "{'mean_fit_time': array([0.05776839, 0.06688247, 0.0721015 , 0.06354518, 0.05019245,\n",
       "        0.06329751, 0.04272628, 0.04749327, 0.26056323, 0.23917799,\n",
       "        0.22235098, 0.21541338]),\n",
       " 'mean_score_time': array([0.01859217, 0.01707578, 0.01505036, 0.02488737, 0.01101232,\n",
       "        0.01778054, 0.01727772, 0.02277341, 0.06377163, 0.05260324,\n",
       "        0.05205317, 0.04873528]),\n",
       " 'mean_test_score': array([0.94936004, 0.94936004, 0.94936004, 0.94936004, 0.94936004,\n",
       "        0.94936004, 0.94936004, 0.94936004, 0.97161937, 0.97273233,\n",
       "        0.97273233, 0.97273233]),\n",
       " 'mean_train_score': array([1.        , 1.        , 1.        , 1.        , 1.        ,\n",
       "        1.        , 1.        , 1.        , 0.99888705, 1.        ,\n",
       "        1.        , 1.        ]),\n",
       " 'param_C': masked_array(data=[1, 15, 30, 50, 100, 150, 250, 1000, 1, 10, 100, 500],\n",
       "              mask=[False, False, False, False, False, False, False, False,\n",
       "                    False, False, False, False],\n",
       "        fill_value='?',\n",
       "             dtype=object),\n",
       " 'param_kernel': masked_array(data=['linear', 'linear', 'linear', 'linear', 'linear',\n",
       "                    'linear', 'linear', 'linear', 'rbf', 'rbf', 'rbf',\n",
       "                    'rbf'],\n",
       "              mask=[False, False, False, False, False, False, False, False,\n",
       "                    False, False, False, False],\n",
       "        fill_value='?',\n",
       "             dtype=object),\n",
       " 'params': [{'C': 1, 'kernel': 'linear'},\n",
       "  {'C': 15, 'kernel': 'linear'},\n",
       "  {'C': 30, 'kernel': 'linear'},\n",
       "  {'C': 50, 'kernel': 'linear'},\n",
       "  {'C': 100, 'kernel': 'linear'},\n",
       "  {'C': 150, 'kernel': 'linear'},\n",
       "  {'C': 250, 'kernel': 'linear'},\n",
       "  {'C': 1000, 'kernel': 'linear'},\n",
       "  {'C': 1, 'kernel': 'rbf'},\n",
       "  {'C': 10, 'kernel': 'rbf'},\n",
       "  {'C': 100, 'kernel': 'rbf'},\n",
       "  {'C': 500, 'kernel': 'rbf'}],\n",
       " 'rank_test_score': array([5, 5, 5, 5, 5, 5, 5, 5, 4, 1, 1, 1], dtype=int32),\n",
       " 'split0_test_score': array([0.96428571, 0.96428571, 0.96428571, 0.96428571, 0.96428571,\n",
       "        0.96428571, 0.96428571, 0.96428571, 0.97527473, 0.97802198,\n",
       "        0.97802198, 0.97802198]),\n",
       " 'split0_train_score': array([1.        , 1.        , 1.        , 1.        , 1.        ,\n",
       "        1.        , 1.        , 1.        , 0.99930216, 1.        ,\n",
       "        1.        , 1.        ]),\n",
       " 'split1_test_score': array([0.92265193, 0.92265193, 0.92265193, 0.92265193, 0.92265193,\n",
       "        0.92265193, 0.92265193, 0.92265193, 0.95027624, 0.95027624,\n",
       "        0.95027624, 0.95027624]),\n",
       " 'split1_train_score': array([1.        , 1.        , 1.        , 1.        , 1.        ,\n",
       "        1.        , 1.        , 1.        , 0.99860627, 1.        ,\n",
       "        1.        , 1.        ]),\n",
       " 'split2_test_score': array([0.96657382, 0.96657382, 0.96657382, 0.96657382, 0.96657382,\n",
       "        0.96657382, 0.96657382, 0.96657382, 0.98328691, 0.98328691,\n",
       "        0.98328691, 0.98328691]),\n",
       " 'split2_train_score': array([1.        , 1.        , 1.        , 1.        , 1.        ,\n",
       "        1.        , 1.        , 1.        , 0.99860918, 1.        ,\n",
       "        1.        , 1.        ]),\n",
       " 'split3_test_score': array([0.96358543, 0.96358543, 0.96358543, 0.96358543, 0.96358543,\n",
       "        0.96358543, 0.96358543, 0.96358543, 0.99159664, 0.98879552,\n",
       "        0.98879552, 0.98879552]),\n",
       " 'split3_train_score': array([1.        , 1.        , 1.        , 1.        , 1.        ,\n",
       "        1.        , 1.        , 1.        , 0.99861111, 1.        ,\n",
       "        1.        , 1.        ]),\n",
       " 'split4_test_score': array([0.92957746, 0.92957746, 0.92957746, 0.92957746, 0.92957746,\n",
       "        0.92957746, 0.92957746, 0.92957746, 0.95774648, 0.96338028,\n",
       "        0.96338028, 0.96338028]),\n",
       " 'split4_train_score': array([1.        , 1.        , 1.        , 1.        , 1.        ,\n",
       "        1.        , 1.        , 1.        , 0.99930652, 1.        ,\n",
       "        1.        , 1.        ]),\n",
       " 'std_fit_time': array([0.03678794, 0.02723461, 0.01950053, 0.02875299, 0.01325734,\n",
       "        0.01805483, 0.01268043, 0.01761572, 0.06573636, 0.0686339 ,\n",
       "        0.02636187, 0.05567732]),\n",
       " 'std_score_time': array([0.01276409, 0.0064518 , 0.00684115, 0.0237406 , 0.0006952 ,\n",
       "        0.01316649, 0.01229726, 0.01708625, 0.01573981, 0.01131083,\n",
       "        0.01066404, 0.01208793]),\n",
       " 'std_test_score': array([0.01911891, 0.01911891, 0.01911891, 0.01911891, 0.01911891,\n",
       "        0.01911891, 0.01911891, 0.01911891, 0.01545875, 0.01407289,\n",
       "        0.01407289, 0.01407289]),\n",
       " 'std_train_score': array([0.        , 0.        , 0.        , 0.        , 0.        ,\n",
       "        0.        , 0.        , 0.        , 0.00034072, 0.        ,\n",
       "        0.        , 0.        ])}"
      ]
     },
     "execution_count": 68,
     "metadata": {},
     "output_type": "execute_result"
    }
   ],
   "source": [
    "gridSearch2.cv_results_"
   ]
  },
  {
   "cell_type": "code",
   "execution_count": 74,
   "metadata": {},
   "outputs": [],
   "source": [
    "randomizedSearch = sklearn.model_selection.RandomizedSearchCV(clasificador2, {\"C\": [1,2,3,4,5,6]} ,n_iter=2)"
   ]
  },
  {
   "cell_type": "code",
   "execution_count": 75,
   "metadata": {},
   "outputs": [
    {
     "data": {
      "text/plain": [
       "RandomizedSearchCV(cv=None, error_score='raise',\n",
       "          estimator=SVC(C=100.0, cache_size=200, class_weight=None, coef0=0.0,\n",
       "  decision_function_shape='ovr', degree=3, gamma=0.001, kernel='rbf',\n",
       "  max_iter=-1, probability=False, random_state=None, shrinking=True,\n",
       "  tol=0.001, verbose=False),\n",
       "          fit_params=None, iid=True, n_iter=2, n_jobs=1,\n",
       "          param_distributions={'C': [1, 2, 3, 4, 5, 6]},\n",
       "          pre_dispatch='2*n_jobs', random_state=None, refit=True,\n",
       "          return_train_score='warn', scoring=None, verbose=0)"
      ]
     },
     "execution_count": 75,
     "metadata": {},
     "output_type": "execute_result"
    }
   ],
   "source": [
    "randomizedSearch.fit(digits.data, y=digits.target)"
   ]
  },
  {
   "cell_type": "markdown",
   "metadata": {},
   "source": [
    "## Esquema de validacion o train/test"
   ]
  },
  {
   "cell_type": "code",
   "execution_count": 77,
   "metadata": {},
   "outputs": [],
   "source": [
    "cancer = sklearn.datasets.load_breast_cancer()"
   ]
  },
  {
   "cell_type": "code",
   "execution_count": 76,
   "metadata": {},
   "outputs": [],
   "source": [
    "#sklearn.model_selection.KFold\n",
    "#sklearn.model_selection.train_test_split"
   ]
  },
  {
   "cell_type": "code",
   "execution_count": 79,
   "metadata": {},
   "outputs": [
    {
     "name": "stderr",
     "output_type": "stream",
     "text": [
      "/home/dsc/anaconda3/lib/python3.6/site-packages/sklearn/model_selection/_split.py:2026: FutureWarning: From version 0.21, test_size will always complement train_size unless both are specified.\n",
      "  FutureWarning)\n"
     ]
    }
   ],
   "source": [
    "X_train, X_test, y_train, y_train = sklearn.model_selection.train_test_split(cancer.data, cancer.target, train_size=0.8)"
   ]
  },
  {
   "cell_type": "code",
   "execution_count": 81,
   "metadata": {},
   "outputs": [
    {
     "data": {
      "text/plain": [
       "(455, 30)"
      ]
     },
     "execution_count": 81,
     "metadata": {},
     "output_type": "execute_result"
    }
   ],
   "source": [
    "X_train.shape"
   ]
  },
  {
   "cell_type": "code",
   "execution_count": 82,
   "metadata": {},
   "outputs": [
    {
     "data": {
      "text/plain": [
       "(114, 30)"
      ]
     },
     "execution_count": 82,
     "metadata": {},
     "output_type": "execute_result"
    }
   ],
   "source": [
    "X_test.shape"
   ]
  },
  {
   "cell_type": "code",
   "execution_count": 84,
   "metadata": {},
   "outputs": [],
   "source": [
    "kf = sklearn.model_selection.KFold(4)"
   ]
  },
  {
   "cell_type": "code",
   "execution_count": 85,
   "metadata": {},
   "outputs": [
    {
     "data": {
      "text/plain": [
       "4"
      ]
     },
     "execution_count": 85,
     "metadata": {},
     "output_type": "execute_result"
    }
   ],
   "source": [
    "kf.get_n_splits()"
   ]
  },
  {
   "cell_type": "code",
   "execution_count": 87,
   "metadata": {},
   "outputs": [
    {
     "name": "stdout",
     "output_type": "stream",
     "text": [
      "[143 144 145 146 147 148 149 150 151 152 153 154 155 156 157 158 159 160\n",
      " 161 162 163 164 165 166 167 168 169 170 171 172 173 174 175 176 177 178\n",
      " 179 180 181 182 183 184 185 186 187 188 189 190 191 192 193 194 195 196\n",
      " 197 198 199 200 201 202 203 204 205 206 207 208 209 210 211 212 213 214\n",
      " 215 216 217 218 219 220 221 222 223 224 225 226 227 228 229 230 231 232\n",
      " 233 234 235 236 237 238 239 240 241 242 243 244 245 246 247 248 249 250\n",
      " 251 252 253 254 255 256 257 258 259 260 261 262 263 264 265 266 267 268\n",
      " 269 270 271 272 273 274 275 276 277 278 279 280 281 282 283 284 285 286\n",
      " 287 288 289 290 291 292 293 294 295 296 297 298 299 300 301 302 303 304\n",
      " 305 306 307 308 309 310 311 312 313 314 315 316 317 318 319 320 321 322\n",
      " 323 324 325 326 327 328 329 330 331 332 333 334 335 336 337 338 339 340\n",
      " 341 342 343 344 345 346 347 348 349 350 351 352 353 354 355 356 357 358\n",
      " 359 360 361 362 363 364 365 366 367 368 369 370 371 372 373 374 375 376\n",
      " 377 378 379 380 381 382 383 384 385 386 387 388 389 390 391 392 393 394\n",
      " 395 396 397 398 399 400 401 402 403 404 405 406 407 408 409 410 411 412\n",
      " 413 414 415 416 417 418 419 420 421 422 423 424 425 426 427 428 429 430\n",
      " 431 432 433 434 435 436 437 438 439 440 441 442 443 444 445 446 447 448\n",
      " 449 450 451 452 453 454 455 456 457 458 459 460 461 462 463 464 465 466\n",
      " 467 468 469 470 471 472 473 474 475 476 477 478 479 480 481 482 483 484\n",
      " 485 486 487 488 489 490 491 492 493 494 495 496 497 498 499 500 501 502\n",
      " 503 504 505 506 507 508 509 510 511 512 513 514 515 516 517 518 519 520\n",
      " 521 522 523 524 525 526 527 528 529 530 531 532 533 534 535 536 537 538\n",
      " 539 540 541 542 543 544 545 546 547 548 549 550 551 552 553 554 555 556\n",
      " 557 558 559 560 561 562 563 564 565 566 567 568] [  0   1   2   3   4   5   6   7   8   9  10  11  12  13  14  15  16  17\n",
      "  18  19  20  21  22  23  24  25  26  27  28  29  30  31  32  33  34  35\n",
      "  36  37  38  39  40  41  42  43  44  45  46  47  48  49  50  51  52  53\n",
      "  54  55  56  57  58  59  60  61  62  63  64  65  66  67  68  69  70  71\n",
      "  72  73  74  75  76  77  78  79  80  81  82  83  84  85  86  87  88  89\n",
      "  90  91  92  93  94  95  96  97  98  99 100 101 102 103 104 105 106 107\n",
      " 108 109 110 111 112 113 114 115 116 117 118 119 120 121 122 123 124 125\n",
      " 126 127 128 129 130 131 132 133 134 135 136 137 138 139 140 141 142]\n",
      "[  0   1   2   3   4   5   6   7   8   9  10  11  12  13  14  15  16  17\n",
      "  18  19  20  21  22  23  24  25  26  27  28  29  30  31  32  33  34  35\n",
      "  36  37  38  39  40  41  42  43  44  45  46  47  48  49  50  51  52  53\n",
      "  54  55  56  57  58  59  60  61  62  63  64  65  66  67  68  69  70  71\n",
      "  72  73  74  75  76  77  78  79  80  81  82  83  84  85  86  87  88  89\n",
      "  90  91  92  93  94  95  96  97  98  99 100 101 102 103 104 105 106 107\n",
      " 108 109 110 111 112 113 114 115 116 117 118 119 120 121 122 123 124 125\n",
      " 126 127 128 129 130 131 132 133 134 135 136 137 138 139 140 141 142 285\n",
      " 286 287 288 289 290 291 292 293 294 295 296 297 298 299 300 301 302 303\n",
      " 304 305 306 307 308 309 310 311 312 313 314 315 316 317 318 319 320 321\n",
      " 322 323 324 325 326 327 328 329 330 331 332 333 334 335 336 337 338 339\n",
      " 340 341 342 343 344 345 346 347 348 349 350 351 352 353 354 355 356 357\n",
      " 358 359 360 361 362 363 364 365 366 367 368 369 370 371 372 373 374 375\n",
      " 376 377 378 379 380 381 382 383 384 385 386 387 388 389 390 391 392 393\n",
      " 394 395 396 397 398 399 400 401 402 403 404 405 406 407 408 409 410 411\n",
      " 412 413 414 415 416 417 418 419 420 421 422 423 424 425 426 427 428 429\n",
      " 430 431 432 433 434 435 436 437 438 439 440 441 442 443 444 445 446 447\n",
      " 448 449 450 451 452 453 454 455 456 457 458 459 460 461 462 463 464 465\n",
      " 466 467 468 469 470 471 472 473 474 475 476 477 478 479 480 481 482 483\n",
      " 484 485 486 487 488 489 490 491 492 493 494 495 496 497 498 499 500 501\n",
      " 502 503 504 505 506 507 508 509 510 511 512 513 514 515 516 517 518 519\n",
      " 520 521 522 523 524 525 526 527 528 529 530 531 532 533 534 535 536 537\n",
      " 538 539 540 541 542 543 544 545 546 547 548 549 550 551 552 553 554 555\n",
      " 556 557 558 559 560 561 562 563 564 565 566 567 568] [143 144 145 146 147 148 149 150 151 152 153 154 155 156 157 158 159 160\n",
      " 161 162 163 164 165 166 167 168 169 170 171 172 173 174 175 176 177 178\n",
      " 179 180 181 182 183 184 185 186 187 188 189 190 191 192 193 194 195 196\n",
      " 197 198 199 200 201 202 203 204 205 206 207 208 209 210 211 212 213 214\n",
      " 215 216 217 218 219 220 221 222 223 224 225 226 227 228 229 230 231 232\n",
      " 233 234 235 236 237 238 239 240 241 242 243 244 245 246 247 248 249 250\n",
      " 251 252 253 254 255 256 257 258 259 260 261 262 263 264 265 266 267 268\n",
      " 269 270 271 272 273 274 275 276 277 278 279 280 281 282 283 284]\n",
      "[  0   1   2   3   4   5   6   7   8   9  10  11  12  13  14  15  16  17\n",
      "  18  19  20  21  22  23  24  25  26  27  28  29  30  31  32  33  34  35\n",
      "  36  37  38  39  40  41  42  43  44  45  46  47  48  49  50  51  52  53\n",
      "  54  55  56  57  58  59  60  61  62  63  64  65  66  67  68  69  70  71\n",
      "  72  73  74  75  76  77  78  79  80  81  82  83  84  85  86  87  88  89\n",
      "  90  91  92  93  94  95  96  97  98  99 100 101 102 103 104 105 106 107\n",
      " 108 109 110 111 112 113 114 115 116 117 118 119 120 121 122 123 124 125\n",
      " 126 127 128 129 130 131 132 133 134 135 136 137 138 139 140 141 142 143\n",
      " 144 145 146 147 148 149 150 151 152 153 154 155 156 157 158 159 160 161\n",
      " 162 163 164 165 166 167 168 169 170 171 172 173 174 175 176 177 178 179\n",
      " 180 181 182 183 184 185 186 187 188 189 190 191 192 193 194 195 196 197\n",
      " 198 199 200 201 202 203 204 205 206 207 208 209 210 211 212 213 214 215\n",
      " 216 217 218 219 220 221 222 223 224 225 226 227 228 229 230 231 232 233\n",
      " 234 235 236 237 238 239 240 241 242 243 244 245 246 247 248 249 250 251\n",
      " 252 253 254 255 256 257 258 259 260 261 262 263 264 265 266 267 268 269\n",
      " 270 271 272 273 274 275 276 277 278 279 280 281 282 283 284 427 428 429\n",
      " 430 431 432 433 434 435 436 437 438 439 440 441 442 443 444 445 446 447\n",
      " 448 449 450 451 452 453 454 455 456 457 458 459 460 461 462 463 464 465\n",
      " 466 467 468 469 470 471 472 473 474 475 476 477 478 479 480 481 482 483\n",
      " 484 485 486 487 488 489 490 491 492 493 494 495 496 497 498 499 500 501\n",
      " 502 503 504 505 506 507 508 509 510 511 512 513 514 515 516 517 518 519\n",
      " 520 521 522 523 524 525 526 527 528 529 530 531 532 533 534 535 536 537\n",
      " 538 539 540 541 542 543 544 545 546 547 548 549 550 551 552 553 554 555\n",
      " 556 557 558 559 560 561 562 563 564 565 566 567 568] [285 286 287 288 289 290 291 292 293 294 295 296 297 298 299 300 301 302\n",
      " 303 304 305 306 307 308 309 310 311 312 313 314 315 316 317 318 319 320\n",
      " 321 322 323 324 325 326 327 328 329 330 331 332 333 334 335 336 337 338\n",
      " 339 340 341 342 343 344 345 346 347 348 349 350 351 352 353 354 355 356\n",
      " 357 358 359 360 361 362 363 364 365 366 367 368 369 370 371 372 373 374\n",
      " 375 376 377 378 379 380 381 382 383 384 385 386 387 388 389 390 391 392\n",
      " 393 394 395 396 397 398 399 400 401 402 403 404 405 406 407 408 409 410\n",
      " 411 412 413 414 415 416 417 418 419 420 421 422 423 424 425 426]\n",
      "[  0   1   2   3   4   5   6   7   8   9  10  11  12  13  14  15  16  17\n",
      "  18  19  20  21  22  23  24  25  26  27  28  29  30  31  32  33  34  35\n",
      "  36  37  38  39  40  41  42  43  44  45  46  47  48  49  50  51  52  53\n",
      "  54  55  56  57  58  59  60  61  62  63  64  65  66  67  68  69  70  71\n",
      "  72  73  74  75  76  77  78  79  80  81  82  83  84  85  86  87  88  89\n",
      "  90  91  92  93  94  95  96  97  98  99 100 101 102 103 104 105 106 107\n",
      " 108 109 110 111 112 113 114 115 116 117 118 119 120 121 122 123 124 125\n",
      " 126 127 128 129 130 131 132 133 134 135 136 137 138 139 140 141 142 143\n",
      " 144 145 146 147 148 149 150 151 152 153 154 155 156 157 158 159 160 161\n",
      " 162 163 164 165 166 167 168 169 170 171 172 173 174 175 176 177 178 179\n",
      " 180 181 182 183 184 185 186 187 188 189 190 191 192 193 194 195 196 197\n",
      " 198 199 200 201 202 203 204 205 206 207 208 209 210 211 212 213 214 215\n",
      " 216 217 218 219 220 221 222 223 224 225 226 227 228 229 230 231 232 233\n",
      " 234 235 236 237 238 239 240 241 242 243 244 245 246 247 248 249 250 251\n",
      " 252 253 254 255 256 257 258 259 260 261 262 263 264 265 266 267 268 269\n",
      " 270 271 272 273 274 275 276 277 278 279 280 281 282 283 284 285 286 287\n",
      " 288 289 290 291 292 293 294 295 296 297 298 299 300 301 302 303 304 305\n",
      " 306 307 308 309 310 311 312 313 314 315 316 317 318 319 320 321 322 323\n",
      " 324 325 326 327 328 329 330 331 332 333 334 335 336 337 338 339 340 341\n",
      " 342 343 344 345 346 347 348 349 350 351 352 353 354 355 356 357 358 359\n",
      " 360 361 362 363 364 365 366 367 368 369 370 371 372 373 374 375 376 377\n",
      " 378 379 380 381 382 383 384 385 386 387 388 389 390 391 392 393 394 395\n",
      " 396 397 398 399 400 401 402 403 404 405 406 407 408 409 410 411 412 413\n",
      " 414 415 416 417 418 419 420 421 422 423 424 425 426] [427 428 429 430 431 432 433 434 435 436 437 438 439 440 441 442 443 444\n",
      " 445 446 447 448 449 450 451 452 453 454 455 456 457 458 459 460 461 462\n",
      " 463 464 465 466 467 468 469 470 471 472 473 474 475 476 477 478 479 480\n",
      " 481 482 483 484 485 486 487 488 489 490 491 492 493 494 495 496 497 498\n",
      " 499 500 501 502 503 504 505 506 507 508 509 510 511 512 513 514 515 516\n",
      " 517 518 519 520 521 522 523 524 525 526 527 528 529 530 531 532 533 534\n",
      " 535 536 537 538 539 540 541 542 543 544 545 546 547 548 549 550 551 552\n",
      " 553 554 555 556 557 558 559 560 561 562 563 564 565 566 567 568]\n"
     ]
    }
   ],
   "source": [
    "for train, test in kf.split(cancer.data, cancer.target):\n",
    "    print(train, test)"
   ]
  },
  {
   "cell_type": "code",
   "execution_count": 89,
   "metadata": {},
   "outputs": [
    {
     "data": {
      "text/plain": [
       "1.0"
      ]
     },
     "execution_count": 89,
     "metadata": {},
     "output_type": "execute_result"
    }
   ],
   "source": [
    "# como vamos a medir la calidad del modelo\n",
    "sklearn.metrics.accuracy_score(digits.target, clasificador2.predict(digits.data))"
   ]
  },
  {
   "cell_type": "code",
   "execution_count": 90,
   "metadata": {},
   "outputs": [
    {
     "data": {
      "text/plain": [
       "1.0"
      ]
     },
     "execution_count": 90,
     "metadata": {},
     "output_type": "execute_result"
    }
   ],
   "source": [
    "clasificador2.score(digits.data, digits.target)"
   ]
  },
  {
   "cell_type": "code",
   "execution_count": 140,
   "metadata": {},
   "outputs": [
    {
     "name": "stdout",
     "output_type": "stream",
     "text": [
      "division 0\n",
      "0.8811188811188811\n",
      "division 1\n",
      "0.9436619718309859\n",
      "division 2\n",
      "0.9366197183098591\n",
      "division 3\n",
      "0.8732394366197183\n"
     ]
    }
   ],
   "source": [
    "\n",
    "for i, (train, test) in enumerate( kf.split(cancer.data, cancer.target)):\n",
    "    print('division '+str(i))\n",
    "    # paso 1: dividir en train y test\n",
    "    X_train = cancer.data[train]\n",
    "    X_test = cancer.data[test]\n",
    "    y_train = cancer.target[train]\n",
    "    y_test = cancer.target[test]\n",
    "    # paso 2: crear y fitar un model (svm)   \n",
    "    clasificador = svm.SVC(gamma=0.001, C=100.0)\n",
    "    clasificador.fit(X=X_train, y=y_train)\n",
    "    # paso 3: calcular e imprimir el accuracy\n",
    "    print(sklearn.metrics.accuracy_score(clasificador.predict(X_test), y_test))\n",
    "    "
   ]
  },
  {
   "cell_type": "code",
   "execution_count": 144,
   "metadata": {},
   "outputs": [],
   "source": [
    "from sklearn.datasets import fetch_20newsgroups"
   ]
  },
  {
   "cell_type": "code",
   "execution_count": 145,
   "metadata": {},
   "outputs": [
    {
     "name": "stderr",
     "output_type": "stream",
     "text": [
      "Downloading 20news dataset. This may take a few minutes.\n",
      "Downloading dataset from https://ndownloader.figshare.com/files/5975967 (14 MB)\n"
     ]
    }
   ],
   "source": [
    "text_train = fetch_20newsgroups(subset='train', categories=[\"sci.med\", \"comp.graphics\"], shuffle=True, random_state=42)"
   ]
  },
  {
   "cell_type": "code",
   "execution_count": 146,
   "metadata": {},
   "outputs": [],
   "source": [
    "count_vect = sklearn.feature_extraction.text.CountVectorizer()"
   ]
  },
  {
   "cell_type": "code",
   "execution_count": 148,
   "metadata": {},
   "outputs": [],
   "source": [
    "X_train_counts = count_vect.fit_transform(text_train.data)"
   ]
  },
  {
   "cell_type": "code",
   "execution_count": 149,
   "metadata": {},
   "outputs": [
    {
     "data": {
      "text/plain": [
       "{'from': 10161,\n",
       " 'zyeh': 24608,\n",
       " 'caspian': 5492,\n",
       " 'usc': 23190,\n",
       " 'edu': 8637,\n",
       " 'zhenghao': 24571,\n",
       " 'yeh': 24470,\n",
       " 'subject': 21310,\n",
       " 're': 18530,\n",
       " 'need': 15586,\n",
       " 'polygon': 17527,\n",
       " 'splitting': 20877,\n",
       " 'algo': 3261,\n",
       " 'organization': 16414,\n",
       " 'university': 23043,\n",
       " 'of': 16197,\n",
       " 'southern': 20726,\n",
       " 'california': 5314,\n",
       " 'los': 13990,\n",
       " 'angeles': 3505,\n",
       " 'ca': 5256,\n",
       " 'lines': 13813,\n",
       " '25': 1072,\n",
       " 'distribution': 8109,\n",
       " 'world': 24225,\n",
       " 'nntp': 15837,\n",
       " 'posting': 17635,\n",
       " 'host': 11533,\n",
       " 'keywords': 13129,\n",
       " 'polygons': 17530,\n",
       " 'clipping': 6075,\n",
       " 'in': 11989,\n",
       " 'article': 3829,\n",
       " '1qvq4b': 833,\n",
       " 'r4t': 18352,\n",
       " 'wampyr': 23791,\n",
       " 'cc': 5545,\n",
       " 'uow': 23130,\n",
       " 'au': 4005,\n",
       " 'g9134255': 10258,\n",
       " 'coronado': 6832,\n",
       " 'emmanuel': 8824,\n",
       " 'abad': 2702,\n",
       " 'writes': 24275,\n",
       " 'the': 22081,\n",
       " 'idea': 11788,\n",
       " 'is': 12576,\n",
       " 'to': 22308,\n",
       " 'clip': 6070,\n",
       " 'one': 16284,\n",
       " 'using': 23210,\n",
       " 'another': 3563,\n",
       " 'not': 15933,\n",
       " 'necessarily': 15577,\n",
       " 'rectangular': 18661,\n",
       " 'as': 3847,\n",
       " 'window': 24091,\n",
       " 'my': 15423,\n",
       " 'problem': 17915,\n",
       " 'then': 22093,\n",
       " 'finding': 9753,\n",
       " 'out': 16515,\n",
       " 'all': 3285,\n",
       " 'new': 15698,\n",
       " 'vertices': 23482,\n",
       " 'resulting': 19104,\n",
       " 'subpolygons': 21326,\n",
       " 'first': 9788,\n",
       " 'this': 22156,\n",
       " 'simply': 20372,\n",
       " 'matter': 14462,\n",
       " 'extending': 9406,\n",
       " 'usual': 23218,\n",
       " 'algorithm': 3264,\n",
       " 'whereby': 24001,\n",
       " 'each': 8534,\n",
       " 'edges': 8612,\n",
       " 'checked': 5763,\n",
       " 'against': 3123,\n",
       " 'there': 22111,\n",
       " 'simpler': 20365,\n",
       " 'way': 23868,\n",
       " 'comments': 6295,\n",
       " 'welcome': 23940,\n",
       " 'noel': 15854,\n",
       " 'it': 12624,\n",
       " 'depends': 7647,\n",
       " 'on': 16277,\n",
       " 'what': 23988,\n",
       " 'kind': 13175,\n",
       " 'convex': 6752,\n",
       " 'simple': 20364,\n",
       " 'concave': 6476,\n",
       " 'trouble': 22629,\n",
       " 'with': 24138,\n",
       " 'loop': 13972,\n",
       " 'inside': 12277,\n",
       " 'big': 4548,\n",
       " 'cause': 5519,\n",
       " 'you': 24506,\n",
       " 'can': 5351,\n",
       " 'use': 23195,\n",
       " 'box': 4876,\n",
       " 'test': 22028,\n",
       " 'avoid': 4096,\n",
       " 'checking': 5765,\n",
       " 'according': 2812,\n",
       " 'experience': 9346,\n",
       " 'go': 10597,\n",
       " 'headache': 11144,\n",
       " 'stuff': 21282,\n",
       " 'deal': 7422,\n",
       " 'special': 20776,\n",
       " 'cases': 5489,\n",
       " 'for': 9969,\n",
       " 'example': 9252,\n",
       " 'overlapped': 16568,\n",
       " 'jim': 12797,\n",
       " 'zisfein': 24583,\n",
       " 'factory': 9491,\n",
       " 'com': 6262,\n",
       " 'advice': 3057,\n",
       " 'doctor': 8199,\n",
       " 'patient': 16893,\n",
       " 'relationship': 18806,\n",
       " 'invention': 12483,\n",
       " 'bbs': 4332,\n",
       " 'york': 24502,\n",
       " 'city': 5987,\n",
       " 'ny': 16061,\n",
       " '212': 943,\n",
       " '274': 1135,\n",
       " '8298v': 2233,\n",
       " '32bis': 1312,\n",
       " 'reply': 18954,\n",
       " '13': 360,\n",
       " 'ml': 15059,\n",
       " 'libman': 13717,\n",
       " 'hsc': 11592,\n",
       " 'marlena': 14386,\n",
       " 'situation': 20422,\n",
       " 'which': 24009,\n",
       " 'occurred': 16164,\n",
       " 'between': 4510,\n",
       " 'me': 14566,\n",
       " 'and': 3477,\n",
       " 'physican': 17243,\n",
       " 'upset': 23157,\n",
       " 'questions': 18319,\n",
       " 'should': 20267,\n",
       " 'continue': 6689,\n",
       " 'have': 11107,\n",
       " 'manage': 14275,\n",
       " 'care': 5430,\n",
       " 'that': 22079,\n",
       " 'easy': 8564,\n",
       " 'no': 15838,\n",
       " 'wouldn': 24252,\n",
       " 'take': 21774,\n",
       " 'your': 24514,\n",
       " 'computer': 6462,\n",
       " 'into': 12449,\n",
       " 'repair': 18921,\n",
       " 'shop': 20247,\n",
       " 'where': 23999,\n",
       " 'they': 22128,\n",
       " 'were': 23956,\n",
       " 'rude': 19502,\n",
       " 'even': 9204,\n",
       " 'if': 11815,\n",
       " 'competent': 6384,\n",
       " 'their': 22087,\n",
       " 'business': 5138,\n",
       " 'why': 24035,\n",
       " 'would': 24251,\n",
       " 'own': 16599,\n",
       " 'body': 4761,\n",
       " 'repairman': 18923,\n",
       " 'has': 11089,\n",
       " 'such': 21381,\n",
       " 'bad': 4179,\n",
       " 'attitude': 3993,\n",
       " 'slmr': 20503,\n",
       " 'mail': 14217,\n",
       " 'stefan': 21073,\n",
       " 'lis': 13850,\n",
       " 'technik': 21895,\n",
       " 'tu': 22675,\n",
       " 'muenchen': 15352,\n",
       " 'de': 7414,\n",
       " 'eckart': 8592,\n",
       " 'dmpeg10': 8179,\n",
       " 'zip': 24579,\n",
       " 'info': 12155,\n",
       " 'dos': 8279,\n",
       " 'mpeg': 15289,\n",
       " 'decoder': 7478,\n",
       " 'player': 17399,\n",
       " 'posted': 17630,\n",
       " 'technische': 21899,\n",
       " 'universitaet': 23038,\n",
       " 'germany': 10446,\n",
       " '74': 2078,\n",
       " 'alt': 3345,\n",
       " 'binaries': 4580,\n",
       " 'pictures': 17281,\n",
       " 'utilities': 23234,\n",
       " 'here': 11266,\n",
       " 'short': 20255,\n",
       " 'description': 7692,\n",
       " 'some': 20667,\n",
       " 'technical': 21892,\n",
       " 'information': 12167,\n",
       " 'taken': 21775,\n",
       " 'accompanying': 2807,\n",
       " 'documentation': 8208,\n",
       " 'dmpeg': 8178,\n",
       " 'v1': 23286,\n",
       " 'public': 18146,\n",
       " 'domain': 8235,\n",
       " 'by': 5162,\n",
       " 'features': 9613,\n",
       " 'dmplay': 8180,\n",
       " 'pc': 16930,\n",
       " 'decodes': 7480,\n",
       " 'nearly': 15568,\n",
       " 'full': 10202,\n",
       " 'video': 23522,\n",
       " 'standard': 20985,\n",
       " 'frames': 10077,\n",
       " 'frame': 10073,\n",
       " 'size': 20433,\n",
       " 'up': 23131,\n",
       " 'at': 3940,\n",
       " 'least': 13590,\n",
       " '352x240': 1366,\n",
       " 'supported': 21519,\n",
       " 'saves': 19706,\n",
       " 'decoded': 7477,\n",
       " 'sequence': 20057,\n",
       " 'or': 16384,\n",
       " '24bit': 1067,\n",
       " 'raw': 18490,\n",
       " 'file': 9726,\n",
       " 'later': 13497,\n",
       " 'display': 8049,\n",
       " 'optional': 16379,\n",
       " 'screen': 19867,\n",
       " 'during': 8480,\n",
       " 'decoding': 7481,\n",
       " 'requires': 18998,\n",
       " 'vga': 23499,\n",
       " 'several': 20111,\n",
       " 'dithering': 8120,\n",
       " 'options': 16381,\n",
       " 'ordered': 16396,\n",
       " 'dither': 8118,\n",
       " 'floyd': 9889,\n",
       " 'steinberg': 21077,\n",
       " 'grayscale': 10749,\n",
       " 'color': 6237,\n",
       " 'space': 20737,\n",
       " 'selection': 19996,\n",
       " 'runs': 19528,\n",
       " 'under': 22942,\n",
       " '640kb': 1877,\n",
       " 'ram': 18422,\n",
       " 'ms': 15309,\n",
       " 'windows': 24094,\n",
       " 'required': 18995,\n",
       " 'very': 23485,\n",
       " 'compact': 6330,\n",
       " 'small': 20528,\n",
       " 'code': 6164,\n",
       " 'data': 7347,\n",
       " 'models': 15096,\n",
       " '16': 497,\n",
       " 'bit': 4640,\n",
       " 'arithmetic': 3778,\n",
       " 'real': 18557,\n",
       " 'time': 22256,\n",
       " 'separate': 20046,\n",
       " 'many': 14324,\n",
       " 'super': 21478,\n",
       " 'vgas': 23501,\n",
       " 'rather': 18472,\n",
       " 'straightforward': 21192,\n",
       " 'implementation': 11950,\n",
       " 'spec': 20775,\n",
       " 'idct': 11786,\n",
       " 'based': 4281,\n",
       " 'chen': 5790,\n",
       " 'wang': 23794,\n",
       " 'multiplication': 15368,\n",
       " 'quite': 18337,\n",
       " 'optimum': 16377,\n",
       " 'know': 13232,\n",
       " 'blocks': 4705,\n",
       " 'more': 15196,\n",
       " 'than': 22073,\n",
       " 'eight': 8695,\n",
       " 'non': 15862,\n",
       " 'zero': 24566,\n",
       " 'coefficients': 6177,\n",
       " 'separated': 20047,\n",
       " 'direct': 7935,\n",
       " 'multiply': 15370,\n",
       " 'accumulate': 2830,\n",
       " '2d': 1212,\n",
       " 'sounds': 20717,\n",
       " 'great': 10755,\n",
       " 'doesn': 8218,\n",
       " 'turned': 22713,\n",
       " 'be': 4342,\n",
       " 'faster': 9574,\n",
       " 'fast': 9573,\n",
       " 'common': 6313,\n",
       " 'case': 5487,\n",
       " 'pretty': 17831,\n",
       " 'main': 14229,\n",
       " 'difference': 7863,\n",
       " 'berkeley': 4472,\n",
       " 'except': 9262,\n",
       " 'fewer': 9683,\n",
       " 'number': 16019,\n",
       " 'algorithms': 3267,\n",
       " '256': 1091,\n",
       " 'instead': 12303,\n",
       " '128': 352,\n",
       " 'colors': 6245,\n",
       " 'default': 7512,\n",
       " 'option': 16378,\n",
       " 'restricted': 19094,\n",
       " 'saturation': 19692,\n",
       " 'dominant': 8241,\n",
       " 'leads': 13574,\n",
       " 'significantly': 20332,\n",
       " 'superior': 21488,\n",
       " 'quality': 18282,\n",
       " 'dithered': 8119,\n",
       " 'image': 11879,\n",
       " 'claim': 5999,\n",
       " 'judge': 12935,\n",
       " 'yourself': 24517,\n",
       " 'means': 14578,\n",
       " 'components': 6420,\n",
       " 'are': 3753,\n",
       " 'clipped': 6073,\n",
       " 'points': 17487,\n",
       " 'distributed': 8107,\n",
       " 'over': 16548,\n",
       " 'since': 20388,\n",
       " 'distance': 8081,\n",
       " 'thus': 22218,\n",
       " 'reduced': 18686,\n",
       " 'factor': 9489,\n",
       " 'two': 22751,\n",
       " 'resolution': 19045,\n",
       " 'doubled': 8293,\n",
       " 'expense': 9343,\n",
       " 'being': 4413,\n",
       " 'able': 2724,\n",
       " 'represent': 18968,\n",
       " 'fully': 10208,\n",
       " 'saturated': 19691,\n",
       " 'method': 14765,\n",
       " 'lying': 14108,\n",
       " 'somewhere': 20683,\n",
       " 'approximated': 3700,\n",
       " 'primarily': 17860,\n",
       " 'alternating': 3354,\n",
       " 'constant': 6624,\n",
       " 'hue': 11617,\n",
       " 'yields': 24488,\n",
       " 'subjectivly': 21314,\n",
       " 'better': 4507,\n",
       " 'due': 8444,\n",
       " 'lower': 14025,\n",
       " 'sensitivity': 20036,\n",
       " 'human': 11634,\n",
       " 'viewing': 23538,\n",
       " 'system': 21723,\n",
       " 'changes': 5703,\n",
       " 'same': 19630,\n",
       " 'reasoning': 18583,\n",
       " 'used': 23197,\n",
       " 'pal': 16700,\n",
       " 'tv': 22725,\n",
       " 'improve': 11978,\n",
       " 'ntsc': 16009,\n",
       " 'improvement': 11980,\n",
       " 'particularly': 16829,\n",
       " 'visible': 23582,\n",
       " 'dark': 7327,\n",
       " 'brown': 5007,\n",
       " 'redish': 18679,\n",
       " 'areas': 3755,\n",
       " 'dougb': 8302,\n",
       " 'comm': 6286,\n",
       " 'mot': 15235,\n",
       " 'doug': 8301,\n",
       " 'bank': 4235,\n",
       " 'blood': 4709,\n",
       " 'cholesterol': 5858,\n",
       " 'gabe': 10260,\n",
       " 'mirkin': 14976,\n",
       " 'ecs': 8600,\n",
       " 'motorola': 15255,\n",
       " 'land': 13430,\n",
       " 'mobile': 15078,\n",
       " 'products': 17945,\n",
       " 'sector': 19958,\n",
       " '145': 438,\n",
       " '146': 439,\n",
       " '35': 1358,\n",
       " '29': 1182,\n",
       " '1pka0uinnnqa': 790,\n",
       " 'mojo': 15125,\n",
       " 'eng': 8915,\n",
       " 'umd': 22889,\n",
       " 'georgec': 10431,\n",
       " 'george': 10430,\n",
       " 'clark': 6014,\n",
       " 'forget': 9992,\n",
       " 'about': 2732,\n",
       " 'total': 22397,\n",
       " 'when': 23997,\n",
       " 'assessing': 3894,\n",
       " 'health': 11160,\n",
       " 'risk': 19276,\n",
       " 'factors': 9490,\n",
       " 'ldl': 13563,\n",
       " 'hdl': 11141,\n",
       " 'an': 3441,\n",
       " '90': 2338,\n",
       " '100': 186,\n",
       " '45': 1553,\n",
       " '110': 263,\n",
       " '50': 1643,\n",
       " '120': 310,\n",
       " '55': 1727,\n",
       " '130': 361,\n",
       " '60': 1797,\n",
       " '140': 412,\n",
       " '70': 1999,\n",
       " 'gee': 10353,\n",
       " 'do': 8189,\n",
       " 'only': 16298,\n",
       " '23': 1008,\n",
       " 'must': 15402,\n",
       " 'risking': 19277,\n",
       " 'something': 20678,\n",
       " 'but': 5143,\n",
       " 'those': 22172,\n",
       " 'high': 11319,\n",
       " 'triglycerides': 22598,\n",
       " 'above': 2733,\n",
       " '300': 1228,\n",
       " 'below': 4434,\n",
       " '30': 1227,\n",
       " 'drug': 8391,\n",
       " 'choice': 5851,\n",
       " 'gemfibrozil': 10367,\n",
       " 'lopid': 13979,\n",
       " '600mg': 1804,\n",
       " 'tablet': 21752,\n",
       " 'thirty': 22155,\n",
       " 'minutes': 14967,\n",
       " 'before': 4390,\n",
       " 'morning': 15204,\n",
       " 'evening': 9205,\n",
       " 'meals': 14573,\n",
       " 'exercise': 9306,\n",
       " 'low': 14023,\n",
       " 'fat': 9578,\n",
       " 'diet': 7854,\n",
       " 'long': 13960,\n",
       " 'term': 21997,\n",
       " 'effects': 8667,\n",
       " 'private': 17893,\n",
       " 'systems': 21727,\n",
       " 'division': 8137,\n",
       " 'communications': 6323,\n",
       " 'nwu': 16059,\n",
       " 'schaumburg': 19781,\n",
       " 'illinois': 11858,\n",
       " 'casbah': 5486,\n",
       " 'acns': 2876,\n",
       " '708': 2016,\n",
       " '576': 1760,\n",
       " '8207': 2223,\n",
       " 'ranjan': 18440,\n",
       " 'cs': 7072,\n",
       " 'ubc': 22798,\n",
       " 'vishwa': 23581,\n",
       " 'complex': 6412,\n",
       " 'imaginary': 11896,\n",
       " 'parts': 16841,\n",
       " 'bio': 4592,\n",
       " 'medical': 14610,\n",
       " 'images': 11889,\n",
       " 'science': 19821,\n",
       " 'vancouver': 23343,\n",
       " 'canada': 5352,\n",
       " 'ironduke': 12556,\n",
       " 'available': 4078,\n",
       " 'anywhere': 3622,\n",
       " 'net': 15644,\n",
       " 'experimentation': 9353,\n",
       " 'mean': 14574,\n",
       " 'every': 9219,\n",
       " 'sampled': 19634,\n",
       " 'point': 17479,\n",
       " 'magnitude': 14211,\n",
       " 'phase': 17161,\n",
       " 'both': 4843,\n",
       " 'thanks': 22077,\n",
       " 'any': 3614,\n",
       " 'pointers': 17485,\n",
       " 'edb9140': 8607,\n",
       " 'tamsun': 21796,\n",
       " 'tamu': 21797,\n",
       " 'pov': 17661,\n",
       " 'problems': 17918,\n",
       " 'tga': 22060,\n",
       " 'outputs': 16533,\n",
       " 'texas': 22042,\n",
       " 'college': 6223,\n",
       " 'station': 21040,\n",
       " 'tx': 22756,\n",
       " 'fiqure': 9779,\n",
       " 'properly': 18022,\n",
       " 'compiled': 6392,\n",
       " 'unix': 23045,\n",
       " 'machine': 14146,\n",
       " 'running': 19525,\n",
       " 'sunos': 21468,\n",
       " 'run': 19520,\n",
       " 'sample': 19633,\n",
       " 'files': 9730,\n",
       " 'exact': 9245,\n",
       " 'parameters': 16773,\n",
       " 'compiling': 6395,\n",
       " 'different': 7866,\n",
       " 'okay': 16236,\n",
       " 'other': 16492,\n",
       " 'unrecognizable': 23085,\n",
       " 'software': 20626,\n",
       " 'help': 11217,\n",
       " 'ed': 8605,\n",
       " 'daniel': 7312,\n",
       " 'prince': 17866,\n",
       " 'f129': 9460,\n",
       " 'n102': 15453,\n",
       " 'z1': 24539,\n",
       " 'calcom': 5293,\n",
       " 'socal': 20603,\n",
       " 'acutane': 2921,\n",
       " 'fibromyalgia': 9702,\n",
       " 'syndrome': 21696,\n",
       " 'cfs': 5654,\n",
       " '11': 262,\n",
       " 'nyeda': 16064,\n",
       " 'cnsvax': 6136,\n",
       " 'uwec': 23272,\n",
       " 'david': 7378,\n",
       " 'nye': 16063,\n",
       " 'person': 17097,\n",
       " 'fido': 9708,\n",
       " 'echo': 8589,\n",
       " 'who': 24024,\n",
       " 'claims': 6002,\n",
       " 'he': 11142,\n",
       " 'was': 23828,\n",
       " 'cured': 7163,\n",
       " 'taking': 21778,\n",
       " 'accutane': 2841,\n",
       " 'also': 3343,\n",
       " 'treatment': 22557,\n",
       " 'gotten': 10649,\n",
       " 'good': 10631,\n",
       " 'results': 19105,\n",
       " 'aware': 4105,\n",
       " 'double': 8292,\n",
       " 'blind': 4687,\n",
       " 'studies': 21278,\n",
       " 'these': 22120,\n",
       " 'conditions': 6519,\n",
       " 'thank': 22074,\n",
       " 'advance': 3043,\n",
       " 'replies': 18953,\n",
       " 'think': 22144,\n",
       " 'rename': 18885,\n",
       " 'waco': 23732,\n",
       " 'wacko': 23730,\n",
       " 'gavin': 10340,\n",
       " 'krypton': 13315,\n",
       " 'asd': 3856,\n",
       " 'sgi': 20130,\n",
       " 'bell': 4426,\n",
       " 'surface': 21542,\n",
       " 'normal': 15900,\n",
       " 'orientations': 16426,\n",
       " 'silicon': 20345,\n",
       " 'graphics': 10721,\n",
       " 'inc': 12003,\n",
       " 'mountain': 15261,\n",
       " 'view': 23533,\n",
       " '38': 1408,\n",
       " '1pscti': 796,\n",
       " 'aqe': 3714,\n",
       " 'travis': 22546,\n",
       " 'csd': 7083,\n",
       " 'harris': 11074,\n",
       " 'srp': 20950,\n",
       " 'stephen': 21086,\n",
       " 'pietrowicz': 17295,\n",
       " 'how': 11552,\n",
       " 'orienting': 16429,\n",
       " 'normals': 15906,\n",
       " 'direction': 7939,\n",
       " 'given': 10521,\n",
       " 'set': 20093,\n",
       " 'faces': 9475,\n",
       " 'works': 24220,\n",
       " 'well': 23945,\n",
       " 'attempt': 3983,\n",
       " 'find': 9750,\n",
       " 'outward': 16541,\n",
       " 'facing': 9484,\n",
       " 'mark': 14367,\n",
       " 'unknown': 23050,\n",
       " 'create': 6982,\n",
       " 'edge': 8611,\n",
       " 'dictionary': 7843,\n",
       " 'allows': 3313,\n",
       " 'sharing': 20175,\n",
       " 'integers': 12335,\n",
       " 'representing': 18973,\n",
       " 'shared': 20171,\n",
       " 'pick': 17268,\n",
       " 'arbitrary': 3726,\n",
       " 'face': 9473,\n",
       " 'counter_clockwise': 6889,\n",
       " 'orient': 16422,\n",
       " 'surrounding': 21568,\n",
       " 'orientation': 16424,\n",
       " 'recurse': 18672,\n",
       " 'consistently': 6614,\n",
       " 'entire': 8980,\n",
       " 'average': 4086,\n",
       " 'calculate': 5294,\n",
       " 'volume': 23659,\n",
       " 'measurement': 14587,\n",
       " 'account': 2815,\n",
       " 'turns': 22718,\n",
       " 'positive': 17610,\n",
       " 'assume': 3913,\n",
       " 'oriented': 16427,\n",
       " 'correctly': 6843,\n",
       " 'negative': 15600,\n",
       " 'reverse': 19152,\n",
       " 'them': 22090,\n",
       " 'clockwise': 6081,\n",
       " 'still': 21127,\n",
       " 'after': 3109,\n",
       " 'choose': 5862,\n",
       " 'through': 22199,\n",
       " 'again': 3122,\n",
       " 'end': 8889,\n",
       " 'marked': 14371,\n",
       " 'indices': 12072,\n",
       " 'reversed': 19153,\n",
       " 'facet': 9476,\n",
       " 'found': 10045,\n",
       " 'note': 15938,\n",
       " 'machines': 14149,\n",
       " 'buy': 5153,\n",
       " 'iris': 12548,\n",
       " 'inventor': 12485,\n",
       " '3d': 1440,\n",
       " 'toolkit': 22370,\n",
       " 'developers': 7762,\n",
       " 'package': 16661,\n",
       " 'source': 20721,\n",
       " 'see': 19966,\n",
       " 'usr': 23213,\n",
       " 'src': 20941,\n",
       " 'tools': 22372,\n",
       " 'ivnorm': 12662,\n",
       " 'sorry': 20706,\n",
       " 'give': 10520,\n",
       " 'could': 6878,\n",
       " 'relies': 18833,\n",
       " 'heavily': 11183,\n",
       " '415': 1497,\n",
       " '390': 1430,\n",
       " '1024': 219,\n",
       " 'mstern': 15328,\n",
       " 'lindsay': 13802,\n",
       " 'princeton': 17867,\n",
       " 'marlene': 14387,\n",
       " 'stern': 21102,\n",
       " 'recurrent': 18670,\n",
       " 'respiratory': 19067,\n",
       " 'papillomatosis': 16748,\n",
       " 'originator': 16437,\n",
       " 'news': 15716,\n",
       " 'nimaster': 15798,\n",
       " 'nj': 15817,\n",
       " '43': 1518,\n",
       " 'we': 23884,\n",
       " 'will': 24068,\n",
       " 'holding': 11439,\n",
       " 'bake': 4197,\n",
       " 'craft': 6956,\n",
       " 'sale': 19611,\n",
       " 'communiversity': 6328,\n",
       " 'nassau': 15508,\n",
       " 'street': 21214,\n",
       " 'saturday': 19693,\n",
       " 'april': 3710,\n",
       " '24th': 1070,\n",
       " '12': 309,\n",
       " 'benefit': 4446,\n",
       " 'foundation': 10046,\n",
       " 'nonprofit': 15879,\n",
       " 'established': 9131,\n",
       " 'encourage': 8883,\n",
       " 'research': 19007,\n",
       " 'toward': 22414,\n",
       " 'cure': 7162,\n",
       " 'our': 16512,\n",
       " 'three': 22187,\n",
       " 'year': 24462,\n",
       " 'old': 16243,\n",
       " 'daughter': 7371,\n",
       " 'suffers': 21396,\n",
       " 'disease': 8013,\n",
       " 'press': 17816,\n",
       " 'release': 18819,\n",
       " 'appeared': 3655,\n",
       " 'local': 13925,\n",
       " 'newspapers': 15728,\n",
       " 'hope': 11498,\n",
       " 'join': 12855,\n",
       " 'us': 23185,\n",
       " '24': 1037,\n",
       " 'part': 16812,\n",
       " 'family': 9541,\n",
       " 'having': 11110,\n",
       " 'raise': 18406,\n",
       " 'money': 15147,\n",
       " 'awareness': 4106,\n",
       " 'rare': 18449,\n",
       " 'called': 5320,\n",
       " 'bill': 4565,\n",
       " 'afflicted': 3097,\n",
       " 'characterized': 5725,\n",
       " 'tumors': 22696,\n",
       " 'attacking': 3977,\n",
       " 'larynx': 13480,\n",
       " 'vocal': 23644,\n",
       " 'cords': 6811,\n",
       " 'trachea': 22442,\n",
       " 'caused': 5520,\n",
       " 'virus': 23576,\n",
       " 'grow': 10826,\n",
       " 'block': 4699,\n",
       " 'air': 3184,\n",
       " 'passages': 16853,\n",
       " 'lead': 13569,\n",
       " 'death': 7433,\n",
       " 'suffocation': 21401,\n",
       " 'without': 24142,\n",
       " 'continual': 6688,\n",
       " 'surgery': 21553,\n",
       " 'remove': 18878,\n",
       " 'growths': 10831,\n",
       " 'undergone': 22950,\n",
       " 'operations': 16337,\n",
       " 'far': 9555,\n",
       " 'her': 11257,\n",
       " 'diagnosis': 7811,\n",
       " 'last': 13489,\n",
       " 'prospect': 18040,\n",
       " 'hundred': 11649,\n",
       " 'throughout': 22200,\n",
       " 'lifetime': 13749,\n",
       " 'though': 22173,\n",
       " 'hardly': 11058,\n",
       " 'household': 11547,\n",
       " 'word': 24200,\n",
       " 'affected': 3085,\n",
       " 'lives': 13890,\n",
       " 'enough': 8952,\n",
       " 'people': 17025,\n",
       " 'inspire': 12292,\n",
       " 'formation': 10008,\n",
       " 'profit': 17955,\n",
       " 'whose': 24031,\n",
       " 'goals': 10600,\n",
       " 'provide': 18068,\n",
       " 'support': 21518,\n",
       " 'patients': 16894,\n",
       " 'families': 9540,\n",
       " 'networking': 15656,\n",
       " 'publishing': 18158,\n",
       " 'newsletter': 15724,\n",
       " 'enhance': 8933,\n",
       " 'rrp': 19464,\n",
       " 'national': 15516,\n",
       " 'level': 13681,\n",
       " 'aid': 3167,\n",
       " 'prevention': 17842,\n",
       " 'researchers': 19010,\n",
       " 'causing': 5522,\n",
       " 'similar': 20358,\n",
       " 'viruses': 23577,\n",
       " 'warts': 23825,\n",
       " 'feel': 9630,\n",
       " 'within': 24141,\n",
       " 'reach': 18533,\n",
       " 'because': 4366,\n",
       " 'gets': 10456,\n",
       " 'scant': 19750,\n",
       " 'attention': 3991,\n",
       " 'paltry': 16715,\n",
       " 'funds': 10226,\n",
       " 'search': 19925,\n",
       " 'mission': 15015,\n",
       " 'change': 5699,\n",
       " 'anyone': 3618,\n",
       " 'interested': 12380,\n",
       " 'contributing': 6719,\n",
       " 'items': 12635,\n",
       " 'please': 17409,\n",
       " 'call': 5316,\n",
       " '609': 1822,\n",
       " '890': 2319,\n",
       " '0502': 109,\n",
       " 'monetary': 15146,\n",
       " 'donations': 8252,\n",
       " 'made': 14182,\n",
       " 'booth': 4818,\n",
       " 'downtown': 8311,\n",
       " 'sent': 20041,\n",
       " 'directly': 7942,\n",
       " 'wesleyan': 23964,\n",
       " 'drive': 8374,\n",
       " 'hamilton': 10992,\n",
       " 'sq': 20927,\n",
       " '08690': 152,\n",
       " 'markl': 14379,\n",
       " 'hunan': 11646,\n",
       " 'rastek': 18460,\n",
       " 'larsen': 13478,\n",
       " 'ray': 18492,\n",
       " 'tracer': 22439,\n",
       " 'corporation': 6836,\n",
       " 'huntsville': 11659,\n",
       " 'al': 3214,\n",
       " '32': 1276,\n",
       " '1r1cqiinnje8': 836,\n",
       " 'srvr1': 20953,\n",
       " 'engin': 8920,\n",
       " 'umich': 22890,\n",
       " 'tdawson': 21869,\n",
       " 'llullaillaco': 13899,\n",
       " 'chris': 5879,\n",
       " 'herringshaw': 11281,\n",
       " 'repeat': 18925,\n",
       " 'request': 18990,\n",
       " 'does': 8217,\n",
       " 'free': 10113,\n",
       " 'shareware': 20174,\n",
       " 'program': 17962,\n",
       " 'traces': 22441,\n",
       " 'save': 19704,\n",
       " 'mapped': 14330,\n",
       " 'course': 6907,\n",
       " 'thing': 22141,\n",
       " 'daemon': 7278,\n",
       " 'books': 4805,\n",
       " 'published': 18154,\n",
       " 'come': 6277,\n",
       " 'floppies': 9879,\n",
       " 'programming': 17972,\n",
       " 'dimensions': 7910,\n",
       " 'traycing': 22548,\n",
       " 'animation': 3525,\n",
       " 'christopher': 5890,\n",
       " 'watkins': 23857,\n",
       " 'larry': 13475,\n",
       " 'sharp': 20178,\n",
       " 'photorealism': 17220,\n",
       " 'tracing': 22443,\n",
       " 'coy': 6934,\n",
       " 'finlay': 9773,\n",
       " 'book': 4803,\n",
       " 'intro': 12463,\n",
       " 'most': 15232,\n",
       " 'programs': 17973,\n",
       " 'disk': 8022,\n",
       " 'ready': 18556,\n",
       " 'glanced': 10532,\n",
       " 'second': 19946,\n",
       " 'appears': 3657,\n",
       " 'helps': 11223,\n",
       " 'r2': 18347,\n",
       " 'unit': 23027,\n",
       " 'motivator': 15250,\n",
       " 'luke': 14067,\n",
       " 'star': 21003,\n",
       " 'wars': 23823,\n",
       " 'tong': 22354,\n",
       " 'ohsu': 16226,\n",
       " 'gong': 10626,\n",
       " 'msg': 15321,\n",
       " 'superstition': 21501,\n",
       " '1993apr16': 740,\n",
       " '194316': 668,\n",
       " '25522': 1090,\n",
       " 'oregon': 16402,\n",
       " 'sciences': 19823,\n",
       " '48': 1595,\n",
       " '155123': 478,\n",
       " '447': 1548,\n",
       " 'cunews': 7149,\n",
       " 'carleton': 5445,\n",
       " 'wcsbeau': 23880,\n",
       " 'alfred': 3255,\n",
       " 'opirg': 16347,\n",
       " '1993apr14': 738,\n",
       " '122647': 327,\n",
       " '16364': 519,\n",
       " 'tms390': 22304,\n",
       " 'micro': 14816,\n",
       " 'ti': 22223,\n",
       " 'thomas': 22162,\n",
       " '13apr199308003715': 408,\n",
       " 'delphi': 7587,\n",
       " 'gsfc': 10846,\n",
       " 'nasa': 15499,\n",
       " 'gov': 10654,\n",
       " 'packer': 16667,\n",
       " 'charles': 5733,\n",
       " 'monosodium': 15162,\n",
       " 'glutamate': 10573,\n",
       " 'saw': 19711,\n",
       " 'times': 22262,\n",
       " 'sunday': 21463,\n",
       " 'scientists': 19828,\n",
       " 'testified': 22033,\n",
       " 'fda': 9606,\n",
       " 'advisory': 3063,\n",
       " 'panel': 16730,\n",
       " 'complaints': 6403,\n",
       " 'anybody': 3615,\n",
       " 'contrary': 6709,\n",
       " 'remember': 18863,\n",
       " 'issue': 12618,\n",
       " 'couple': 6900,\n",
       " '1960s': 692,\n",
       " 'chinese': 5832,\n",
       " 'restaurant': 19081,\n",
       " 'cuisine': 7130,\n",
       " 'always': 3374,\n",
       " 'so': 20593,\n",
       " 've': 23404,\n",
       " 'seen': 19975,\n",
       " 'dozen': 8313,\n",
       " 'posts': 17639,\n",
       " 'anecdotal': 3493,\n",
       " 'evidence': 9228,\n",
       " 'facts': 9493,\n",
       " 'suspect': 21587,\n",
       " 'strong': 21255,\n",
       " 'psychological': 18121,\n",
       " 'effect': 8662,\n",
       " 'work': 24206,\n",
       " 'scientific': 19824,\n",
       " 'study': 21280,\n",
       " 'trials': 22575,\n",
       " 'check': 5761,\n",
       " '27903': 1149,\n",
       " 'just': 12972,\n",
       " '20': 862,\n",
       " 'maybe': 14484,\n",
       " 'missed': 15012,\n",
       " 'amidst': 3403,\n",
       " 'flurry': 9899,\n",
       " 'responses': 19075,\n",
       " 'yet': 24479,\n",
       " 'newsgroup': 15720,\n",
       " 'hampered': 11000,\n",
       " 'restricting': 19095,\n",
       " 'matters': 14463,\n",
       " 'substantial': 21344,\n",
       " 'knowledge': 13237,\n",
       " ...}"
      ]
     },
     "execution_count": 149,
     "metadata": {},
     "output_type": "execute_result"
    }
   ],
   "source": [
    "count_vect.vocabulary_"
   ]
  },
  {
   "cell_type": "code",
   "execution_count": 150,
   "metadata": {},
   "outputs": [],
   "source": [
    "tfidf = sklearn.feature_extraction.text.TfidfTransformer()"
   ]
  },
  {
   "cell_type": "code",
   "execution_count": 151,
   "metadata": {},
   "outputs": [
    {
     "data": {
      "text/plain": [
       "<1178x24614 sparse matrix of type '<class 'numpy.float64'>'\n",
       "\twith 170800 stored elements in Compressed Sparse Row format>"
      ]
     },
     "execution_count": 151,
     "metadata": {},
     "output_type": "execute_result"
    }
   ],
   "source": [
    "tfidf.fit_transform(X_train_counts)"
   ]
  },
  {
   "cell_type": "markdown",
   "metadata": {},
   "source": [
    "## pipelines"
   ]
  },
  {
   "cell_type": "code",
   "execution_count": 152,
   "metadata": {},
   "outputs": [],
   "source": [
    "from sklearn.pipeline import Pipeline"
   ]
  },
  {
   "cell_type": "code",
   "execution_count": 153,
   "metadata": {},
   "outputs": [],
   "source": [
    "mi_clasificador = Pipeline([\n",
    "    (\"BoW\", sklearn.feature_extraction.text.CountVectorizer()),\n",
    "    (\"tfidf\",sklearn.feature_extraction.text.TfidfTransformer() )\n",
    "])"
   ]
  },
  {
   "cell_type": "code",
   "execution_count": 154,
   "metadata": {},
   "outputs": [
    {
     "data": {
      "text/plain": [
       "Pipeline(memory=None,\n",
       "     steps=[('BoW', CountVectorizer(analyzer='word', binary=False, decode_error='strict',\n",
       "        dtype=<class 'numpy.int64'>, encoding='utf-8', input='content',\n",
       "        lowercase=True, max_df=1.0, max_features=None, min_df=1,\n",
       "        ngram_range=(1, 1), preprocessor=None, stop_words=None,\n",
       "        strip_accents=None, token_pattern='(?u)\\\\b\\\\w\\\\w+\\\\b',\n",
       "        tokenizer=None, vocabulary=None)), ('tfidf', TfidfTransformer(norm='l2', smooth_idf=True, sublinear_tf=False, use_idf=True))])"
      ]
     },
     "execution_count": 154,
     "metadata": {},
     "output_type": "execute_result"
    }
   ],
   "source": [
    "mi_clasificador.fit(text_train.data, text_train.target)"
   ]
  },
  {
   "cell_type": "markdown",
   "metadata": {},
   "source": [
    "# https://scikit-learn.org/stable/tutorial/machine_learning_map/index.html"
   ]
  },
  {
   "cell_type": "markdown",
   "metadata": {},
   "source": [
    "Plataformas de cursos:\n",
    "* Coursera\n",
    "* edx"
   ]
  },
  {
   "cell_type": "code",
   "execution_count": null,
   "metadata": {},
   "outputs": [],
   "source": []
  }
 ],
 "metadata": {
  "kernelspec": {
   "display_name": "Python 3",
   "language": "python",
   "name": "python3"
  },
  "language_info": {
   "codemirror_mode": {
    "name": "ipython",
    "version": 3
   },
   "file_extension": ".py",
   "mimetype": "text/x-python",
   "name": "python",
   "nbconvert_exporter": "python",
   "pygments_lexer": "ipython3",
   "version": "3.6.8"
  }
 },
 "nbformat": 4,
 "nbformat_minor": 2
}
